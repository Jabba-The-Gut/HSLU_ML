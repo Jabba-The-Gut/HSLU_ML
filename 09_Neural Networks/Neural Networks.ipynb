{
 "cells": [
  {
   "cell_type": "markdown",
   "metadata": {},
   "source": [
    "# Artificial Neural Networks"
   ]
  },
  {
   "cell_type": "markdown",
   "metadata": {},
   "source": [
    "In this exercise, several parts of the code are missing,  which should be completed by you. "
   ]
  },
  {
   "cell_type": "code",
   "execution_count": 1,
   "metadata": {},
   "outputs": [],
   "source": [
    "import numpy as np\n",
    "import pandas as pd\n",
    "from matplotlib import pyplot as plt\n",
    "\n",
    "import sklearn\n",
    "from sklearn.linear_model import Perceptron\n",
    "from sklearn.neural_network import MLPClassifier\n",
    "from sklearn.metrics import accuracy_score, f1_score\n",
    "from sklearn.model_selection import train_test_split\n",
    "from tqdm.notebook import tqdm\n",
    "import seaborn as sns\n",
    "from sklearn.metrics import accuracy_score\n",
    "sns.set()\n",
    "\n",
    "%matplotlib inline"
   ]
  },
  {
   "cell_type": "markdown",
   "metadata": {},
   "source": [
    "## Implement a neural network from scratch"
   ]
  },
  {
   "cell_type": "markdown",
   "metadata": {},
   "source": [
    "### Activation function\n",
    "We start by implementing the activation functions"
   ]
  },
  {
   "cell_type": "code",
   "execution_count": 2,
   "metadata": {},
   "outputs": [],
   "source": [
    "class ActivationFunction:\n",
    "    def compute_value(self, z):\n",
    "        raise NotImplementedError()\n",
    "\n",
    "    def compute_derivative(self, z):\n",
    "        raise NotImplementedError()"
   ]
  },
  {
   "cell_type": "markdown",
   "metadata": {},
   "source": [
    "> Implement the Sigmoid function"
   ]
  },
  {
   "cell_type": "code",
   "execution_count": 3,
   "metadata": {
    "solution2": "hidden",
    "solution2_first": true
   },
   "outputs": [],
   "source": [
    "class Sigmoid(ActivationFunction):\n",
    "    def compute_value(self, z):\n",
    "        return 1.0 / (1.0 + np.exp(-z))\n",
    "\n",
    "    def compute_derivative(self, z):\n",
    "        s = self.compute_value(z)\n",
    "        return s * (1 - s)"
   ]
  },
  {
   "cell_type": "code",
   "execution_count": 4,
   "metadata": {
    "solution2": "hidden"
   },
   "outputs": [],
   "source": [
    "class Sigmoid(ActivationFunction):\n",
    "    def compute_value(self, z):\n",
    "        return 1.0 / (1.0 + np.exp(-z))\n",
    "\n",
    "    def compute_derivative(self, z):\n",
    "        s = self.compute_value(z)\n",
    "        return s * (1 - s)"
   ]
  },
  {
   "cell_type": "markdown",
   "metadata": {},
   "source": [
    "We will also use the tangens hyperbolicus activation function that returns a value between -1 and 1."
   ]
  },
  {
   "cell_type": "code",
   "execution_count": 5,
   "metadata": {},
   "outputs": [],
   "source": [
    "class Tanh(ActivationFunction):\n",
    "    def compute_value(self, z):\n",
    "        return (np.exp(z) - np.exp(-z)) / (np.exp(z) + np.exp(-z))\n",
    "\n",
    "    def compute_derivative(self, z):\n",
    "        return 1 - self.compute_value(z) ** 2"
   ]
  },
  {
   "cell_type": "markdown",
   "metadata": {},
   "source": [
    "### Cost function"
   ]
  },
  {
   "cell_type": "markdown",
   "metadata": {},
   "source": [
    "We are going to use the binary cross entropy cost function.\n",
    "> Implement the binary cross entropy function"
   ]
  },
  {
   "cell_type": "code",
   "execution_count": 6,
   "metadata": {
    "solution2": "hidden",
    "solution2_first": true
   },
   "outputs": [],
   "source": [
    "class BinaryCrossEntropy(ActivationFunction):\n",
    "    def compute_value(self, y, y_pred):\n",
    "        n = y.shape[0]\n",
    "        cost = -(1.0 / n) * np.sum(y * np.log(y_pred) + (1 - y) * np.log(1 - y_pred))\n",
    "        return cost\n",
    "\n",
    "    def compute_derivative(self, y, y_pred):\n",
    "        return (y_pred - y) / (y_pred * (1-y_pred))"
   ]
  },
  {
   "cell_type": "code",
   "execution_count": 7,
   "metadata": {
    "solution2": "hidden"
   },
   "outputs": [],
   "source": [
    "class BinaryCrossEntropy:\n",
    "    def compute_value(self, y, y_pred):\n",
    "        n = y.shape[0]\n",
    "        cost = -(1.0 / n) * np.sum(y * np.log(y_pred) + (1 - y) * np.log(1 - y_pred))\n",
    "        return cost\n",
    "\n",
    "    def compute_derivative(self, y, y_pred):\n",
    "        return (y_pred - y) / (y_pred * (1-y_pred))\n",
    "    \n"
   ]
  },
  {
   "cell_type": "markdown",
   "metadata": {},
   "source": [
    "### Layer Class"
   ]
  },
  {
   "cell_type": "code",
   "execution_count": 8,
   "metadata": {},
   "outputs": [],
   "source": [
    "class Layer:\n",
    "    def __init__(self, nunits, nunits_prev, activ_func):\n",
    "        \"\"\"\n",
    "        Instantiates a fully connected layer for an MLP, with given number of input and output activations.\n",
    "\n",
    "        Arguments:\n",
    "        nunits -- number of units in the given layer.\n",
    "        nunits_prev -- number of units in the previous layer (= number of input activations).\n",
    "        activ_func -- activation function to be used (with a `compute_value`- and `compute_derivative`-method).\n",
    "        \"\"\"\n",
    "        self.nunits = nunits\n",
    "        self.nunits_prev = nunits_prev\n",
    "        self.activ_func = activ_func\n",
    "\n",
    "        self.weights = None  # shape (nunits,nunits_prev)\n",
    "        self.bias = None  # shape (nunits,1)\n",
    "        self.logits = None  # z-values, shape(nunits,m) - will be needed for the backprop part ...\n",
    "        self.activations = None  # shape(nunits,m)\n",
    "        self.grad_logits = None  # grad w.r.t. z, shape(nunits,m) - will be needed as basis for different gradients\n",
    "\n",
    "    def initialize(self):\n",
    "        \"\"\"\n",
    "        Initializes the weights and biases. It uses Xavier normalisation.\n",
    "        \"\"\"\n",
    "        sigmaw = np.sqrt(2.0 / (self.nunits + self.nunits_prev))  # suited for sigmoid activation function\n",
    "        sigmab = np.sqrt(1.0 / self.nunits)\n",
    "        self.weights = np.random.normal(size=(self.nunits, self.nunits_prev), loc=0.0, scale=sigmaw)\n",
    "        self.bias = np.random.normal(size=(self.nunits, 1), loc=0.0, scale=sigmab)\n",
    "\n",
    "    def propagate(self, activations_prev):\n",
    "        pass\n",
    "\n",
    "\n",
    "    def backpropagate(self, grad_activations):\n",
    "        pass\n",
    "\n",
    "\n",
    "    def gradient_weights(self, activations_prev):\n",
    "        pass\n",
    " \n",
    "\n",
    "    def gradient_bias(self):\n",
    "        pass\n"
   ]
  },
  {
   "cell_type": "markdown",
   "metadata": {},
   "source": [
    "#### Propagate function\n",
    "It computes the activations of the layer given the activations of the previous layer.\n",
    "        It also caches the computed logits (z-values) and activations $a^{[l]}$ since the values will be needed\n",
    "        when using backpropagation to compute the gradients w.r.t. weigths $W$ and biases $b$.\n",
    "> Implement the propagate function"
   ]
  },
  {
   "cell_type": "code",
   "execution_count": 9,
   "metadata": {
    "solution2": "hidden",
    "solution2_first": true
   },
   "outputs": [],
   "source": [
    "class Layer(Layer):\n",
    "    def propagate(self, activations_prev):\n",
    "        \"\"\"\n",
    "        Arguments:\n",
    "        activations_prev -- activations of the previous layer (or input layer). A numpy array of shape\n",
    "        (nunits_prev,m).\n",
    "\n",
    "        Returns:\n",
    "        activations -- activations of this layer, a numpy array of shape (nunits,m)\n",
    "        \"\"\"\n",
    "        ### START YOUR CODE ###\n",
    "        self.logits = self.weights.dot(activations_prev) + self.bias\n",
    "        self.activations = self.activ_func.compute_value(self.logits)\n",
    "        return self.activations\n",
    "        ### END YOUR CODE ###"
   ]
  },
  {
   "cell_type": "code",
   "execution_count": 10,
   "metadata": {
    "solution2": "hidden"
   },
   "outputs": [],
   "source": [
    "class Layer(Layer):\n",
    "    def propagate(self, activations_prev):\n",
    "        \"\"\"\n",
    "        Arguments:\n",
    "        activations_prev -- activations of the previous layer (or input layer). A numpy array of shape\n",
    "        (nunits_prev,m).\n",
    "\n",
    "        Returns:\n",
    "        activations -- activations of this layer, a numpy array of shape (nunits,m)\n",
    "        \"\"\"\n",
    "        ### START YOUR CODE ###\n",
    "        self.logits = self.weights.dot(activations_prev) + self.bias\n",
    "        self.activations = self.activ_func.compute_value(self.logits)\n",
    "        return self.activations\n",
    "        ### END YOUR CODE ###"
   ]
  },
  {
   "cell_type": "markdown",
   "metadata": {},
   "source": [
    "#### Backpropagate function\n",
    "It computes the gradient of the cost w.r.t. to the input activations (activations of the previous\n",
    "        layer $a^{[l-1]}$) of the given layer. It also computes the gradient w.r.t. the logits (z-values) of\n",
    "        the given layer. This will be needed as the basis for computing the gradient of the cost w.r.t.\n",
    "        the weights $W$ and bias $b$ of the given layer.\n",
    "\n",
    "The method assumes that the forward propagation (`propagate`) has been invoked for the given training sample\n",
    "        so that consistent logit-values (self.logits) and activations (self.activations) are available.\n",
    "> Implement the backpropagate function"
   ]
  },
  {
   "cell_type": "code",
   "execution_count": 11,
   "metadata": {
    "solution2": "hidden",
    "solution2_first": true
   },
   "outputs": [],
   "source": [
    "class Layer(Layer):\n",
    "    def backpropagate(self, grad_activations):\n",
    "        \"\"\"\n",
    "        Arguments:\n",
    "        grad_activations -- gradient of the cost w.r.t. to the output activations of the given layer (a^[l]).\n",
    "        A numpy array of shape (nunits_prev,m)\n",
    "\n",
    "        Returns:\n",
    "        grad_activations_prev -- gradient of the cost w.r.t. to the input activations of the given layer.\n",
    "        \"\"\"\n",
    "        nsamples = self.logits.shape[1]\n",
    "        self.grad_logits = grad_activations * self.activ_func.compute_derivative(self.logits)\n",
    "        grad_activations_prev = self.weights.T.dot(self.grad_logits)\n",
    "        return grad_activations_prev"
   ]
  },
  {
   "cell_type": "code",
   "execution_count": 12,
   "metadata": {
    "solution2": "hidden"
   },
   "outputs": [],
   "source": [
    "class Layer(Layer):\n",
    "    def backpropagate(self, grad_activations):\n",
    "        \"\"\"\n",
    "        Arguments:\n",
    "        grad_activations -- gradient of the cost w.r.t. to the output activations of the given layer (a^[l]).\n",
    "        A numpy array of shape (nunits_prev,m)\n",
    "\n",
    "        Returns:\n",
    "        grad_activations_prev -- gradient of the cost w.r.t. to the input activations of the given layer.\n",
    "        \"\"\"\n",
    "        nsamples = self.logits.shape[1]\n",
    "        self.grad_logits = grad_activations * self.activ_func.compute_derivative(self.logits)\n",
    "        grad_activations_prev = self.weights.T.dot(self.grad_logits)\n",
    "        return grad_activations_prev"
   ]
  },
  {
   "cell_type": "markdown",
   "metadata": {},
   "source": [
    "#### Gradient functions\n",
    "The gradient functions are used to compute the gradients w.r.t the weights $W$ and the bias $b$ of the given layer and for the given input samples.\n",
    "> implement the gradient functions"
   ]
  },
  {
   "cell_type": "code",
   "execution_count": 13,
   "metadata": {
    "solution2": "hidden",
    "solution2_first": true
   },
   "outputs": [],
   "source": [
    "class Layer(Layer):\n",
    "    def gradient_weights(self, activations_prev):\n",
    "        \"\"\"\n",
    "        Arguments:\n",
    "        activations_prev -- activations of the previous layer (or input layer). A numpy array of shape\n",
    "        (nunits_prev,m).\n",
    "\n",
    "        Returns:\n",
    "        grad_weights -- the gradient w.r.t. to the weights. A numpy array of shape (nunits, nunits_prev).\n",
    "        \"\"\"\n",
    "        ### START YOUR CODE ###\n",
    "        nsamples = self.logits.shape[1]\n",
    "        grad_weights = self.grad_logits.dot(activations_prev.T) / nsamples\n",
    "        return grad_weights\n",
    "        ### END YOUR CODE ###\n",
    "\n",
    "    def gradient_bias(self):\n",
    "        \"\"\"\n",
    "        Returns:\n",
    "        grad_bias -- the gradient w.r.t. to the bias. A numpy array of shape (nunits, 1).\n",
    "        \"\"\"\n",
    "        ### START YOUR CODE ###\n",
    "        grad_bias = np.mean(self.grad_logits, axis=1).reshape(self.nunits, 1)\n",
    "        np.testing.assert_equal(grad_bias.shape, (self.nunits, 1))\n",
    "        return grad_bias\n",
    "        ### END YOUR CODE ###"
   ]
  },
  {
   "cell_type": "code",
   "execution_count": 14,
   "metadata": {
    "solution2": "hidden"
   },
   "outputs": [],
   "source": [
    "class Layer(Layer):\n",
    "    def gradient_weights(self, activations_prev):\n",
    "        \"\"\"\n",
    "        Arguments:\n",
    "        activations_prev -- activations of the previous layer (or input layer). A numpy array of shape\n",
    "        (nunits_prev,m).\n",
    "\n",
    "        Returns:\n",
    "        grad_weights -- the gradient w.r.t. to the weights. A numpy array of shape (nunits, nunits_prev).\n",
    "        \"\"\"\n",
    "        ### START YOUR CODE ###\n",
    "        nsamples = self.logits.shape[1]\n",
    "        grad_weights = self.grad_logits.dot(activations_prev.T) / nsamples\n",
    "        return grad_weights\n",
    "        ### END YOUR CODE ###\n",
    "\n",
    "    def gradient_bias(self):\n",
    "        \"\"\"\n",
    "        Returns:\n",
    "        grad_bias -- the gradient w.r.t. to the bias. A numpy array of shape (nunits, 1).\n",
    "        \"\"\"\n",
    "        ### START YOUR CODE ###\n",
    "        grad_bias = np.mean(self.grad_logits, axis=1).reshape(self.nunits, 1)\n",
    "        np.testing.assert_equal(grad_bias.shape, (self.nunits, 1))\n",
    "        return grad_bias\n",
    "        ### END YOUR CODE ###"
   ]
  },
  {
   "cell_type": "markdown",
   "metadata": {},
   "source": [
    "### MLP Class"
   ]
  },
  {
   "cell_type": "markdown",
   "metadata": {},
   "source": [
    "We implement an `MLP` class that can have multiple layers. "
   ]
  },
  {
   "cell_type": "code",
   "execution_count": 15,
   "metadata": {},
   "outputs": [],
   "source": [
    "class MLP:\n",
    "    def __init__(self, layers, cost):\n",
    "        self.layers = layers\n",
    "        self.x = None  # input data for one iteration (propagate and backpropagate)\n",
    "        self.cost = cost\n",
    "\n",
    "    def initialize(self):\n",
    "        \"\"\"\n",
    "        Calls the `initialize`-method of the layers which are used to properly initialize the weights and biases.\n",
    "        \"\"\"\n",
    "        for layer in self.layers:\n",
    "            layer.initialize()\n",
    "            \n",
    "    def propagate(self, x):\n",
    "        pass\n",
    "    \n",
    "    def predict(self, x):\n",
    "         pass\n",
    "    \n",
    "    def update_params(self, learning_rate):\n",
    "        pass\n",
    "    \n",
    "    def fit(self, X, y, num_epochs, learning_rate):\n",
    "        pass\n"
   ]
  },
  {
   "cell_type": "markdown",
   "metadata": {},
   "source": [
    "#### Propagate function\n",
    "It computes the output of the MLP for given input (by using the propagate-method). By executing this method on a given input, the activations and the logits of all the layers are computed and cached.\n",
    "> Implement the propage function."
   ]
  },
  {
   "cell_type": "code",
   "execution_count": 16,
   "metadata": {
    "solution2": "hidden",
    "solution2_first": true
   },
   "outputs": [],
   "source": [
    "class MLP(MLP):\n",
    "    def propagate(self, x):\n",
    "        \"\"\"\n",
    "        Arguments:\n",
    "        x -- input of shape (n_0,m)\n",
    "\n",
    "        Returns:\n",
    "        a -- activations of the last layer of shape (n_L,m)\n",
    "        \"\"\"\n",
    "        self.x = x\n",
    "        a = x\n",
    "        for layer in self.layers:\n",
    "            a = layer.propagate(a)\n",
    "        return a\n",
    "\n",
    "    def predict(self, x):\n",
    "        return self.propagate(x)"
   ]
  },
  {
   "cell_type": "code",
   "execution_count": 17,
   "metadata": {
    "solution2": "hidden"
   },
   "outputs": [],
   "source": [
    "class MLP(MLP):\n",
    "    def propagate(self, x):\n",
    "        \"\"\"\n",
    "        Arguments:\n",
    "        x -- input of shape (n_0,m)\n",
    "\n",
    "        Returns:\n",
    "        a -- activations of the last layer of shape (n_L,m)\n",
    "        \"\"\"\n",
    "        self.x = x\n",
    "        a = x\n",
    "        for layer in self.layers:\n",
    "            a = layer.propagate(a)\n",
    "        return a\n",
    "\n",
    "    def predict(self, x):\n",
    "        return self.propagate(x)"
   ]
  },
  {
   "cell_type": "markdown",
   "metadata": {},
   "source": [
    "#### Backpropate function\n",
    "It executes backpropagation for the given MLP (after having executed the `propagate`-method). It starts with passing in the gradient of the cost w.r.t. the activations of the last layer\n",
    "        (i.e. the input to the cost function) and ends up with the gradient of the cost w.r.t. the\n",
    "        input to the first layer (e.g. input x). Once this method has been run, the gradients w.r.t.\n",
    "        to the logits (z-values) are computed and cached. These will be used to update the weights $W$\n",
    "        and biases $b$ in accordance with the gradient descent principle.\n",
    "        \n",
    "> Implement the backpropage function. \n"
   ]
  },
  {
   "cell_type": "code",
   "execution_count": 18,
   "metadata": {
    "solution2": "hidden",
    "solution2_first": true
   },
   "outputs": [],
   "source": [
    "class MLP(MLP):\n",
    "    def backpropagate(self, grady):\n",
    "        \"\"\"\n",
    "        Arguments:\n",
    "        grady -- gradient with respect to the output of the network, i.e. the activations of the last layer\n",
    "        that is input to the cost function. A numpy array of shape (n_L,m)\n",
    "\n",
    "        Returns:\n",
    "        gradient with respect to the inputs to the network. A numpy array of shape (n_0,m)\n",
    "        \"\"\"\n",
    "        grad = grady\n",
    "        for layer in reversed(self.layers):\n",
    "            grad = layer.backpropagate(grad)\n",
    "        return grad"
   ]
  },
  {
   "cell_type": "code",
   "execution_count": 19,
   "metadata": {
    "solution2": "hidden"
   },
   "outputs": [],
   "source": [
    "class MLP(MLP):\n",
    "    def backpropagate(self, grady):\n",
    "        \"\"\"\n",
    "        Arguments:\n",
    "        grady -- gradient with respect to the output of the network, i.e. the activations of the last layer\n",
    "        that is input to the cost function. A numpy array of shape (n_L,m)\n",
    "\n",
    "        Returns:\n",
    "        gradient with respect to the inputs to the network. A numpy array of shape (n_0,m)\n",
    "        \"\"\"\n",
    "        grad = grady\n",
    "        for layer in reversed(self.layers):\n",
    "            grad = layer.backpropagate(grad)\n",
    "        return grad"
   ]
  },
  {
   "cell_type": "markdown",
   "metadata": {},
   "source": [
    "#### Update params function\n",
    "It updates the weights and biases of all the layers consistent with the gradient descent principle.\n",
    "        It assumes that the propagate and backpropagate methods have been executed.\n",
    "        \n",
    "> Implement the update_params function"
   ]
  },
  {
   "cell_type": "code",
   "execution_count": 20,
   "metadata": {
    "solution2": "hidden",
    "solution2_first": true
   },
   "outputs": [],
   "source": [
    "class MLP(MLP):\n",
    "    def update_params(self, learning_rate):\n",
    "        \"\"\"\n",
    "        Arguments:\n",
    "        learning_rate -- learning rate to be used in the update rule.\n",
    "        \"\"\"\n",
    "        ### START YOUR CODE ###\n",
    "        a = self.x\n",
    "        for layer in self.layers:\n",
    "            layer.weights -= learning_rate * layer.gradient_weights(a)\n",
    "            layer.bias -= learning_rate * layer.gradient_bias()\n",
    "            a = layer.activations\n",
    "        ### END YOUR CODE ###"
   ]
  },
  {
   "cell_type": "code",
   "execution_count": 21,
   "metadata": {
    "solution2": "hidden"
   },
   "outputs": [],
   "source": [
    "class MLP(MLP):\n",
    "    def update_params(self, learning_rate):\n",
    "        \"\"\"\n",
    "        Arguments:\n",
    "        learning_rate -- learning rate to be used in the update rule.\n",
    "        \"\"\"\n",
    "        ### START YOUR CODE ###\n",
    "        a = self.x\n",
    "        for layer in self.layers:\n",
    "            layer.weights -= learning_rate * layer.gradient_weights(a)\n",
    "            layer.bias -= learning_rate * layer.gradient_bias()\n",
    "            a = layer.activations\n",
    "        ### END YOUR CODE ###"
   ]
  },
  {
   "cell_type": "markdown",
   "metadata": {},
   "source": [
    "#### Fit function\n",
    "The `fit` function loops through the number of epochs and applies the gradient descent algorithm."
   ]
  },
  {
   "cell_type": "code",
   "execution_count": 22,
   "metadata": {
    "solution2": "hidden",
    "solution2_first": true
   },
   "outputs": [],
   "source": [
    "class MLP(MLP):\n",
    "    def fit(self, X, y, num_epochs, learning_rate):\n",
    "        self.initialize()\n",
    "        costs = []\n",
    "\n",
    "        # Loop over the epochs\n",
    "        for i in tqdm(range(num_epochs)):\n",
    "            y_pred = self.propagate(X)\n",
    "            gradJ = self.cost.compute_derivative(y, y_pred)\n",
    "            grad0 = self.backpropagate(gradJ)\n",
    "            self.update_params(learning_rate)\n",
    "\n",
    "            current_cost = self.cost.compute_value(y, y_pred)\n",
    "            costs.append(current_cost)\n",
    "        return costs"
   ]
  },
  {
   "cell_type": "code",
   "execution_count": 23,
   "metadata": {
    "solution2": "hidden"
   },
   "outputs": [],
   "source": [
    "class MLP(MLP):\n",
    "    def fit(self, X, y, num_epochs, learning_rate):\n",
    "        self.initialize()\n",
    "        costs = []\n",
    "\n",
    "        # Loop over the epochs\n",
    "        for i in tqdm(range(num_epochs)):\n",
    "            y_pred = self.propagate(X)\n",
    "            gradJ = self.cost.compute_derivative(y, y_pred)\n",
    "            grad0 = self.backpropagate(gradJ)\n",
    "            self.update_params(learning_rate)\n",
    "\n",
    "            current_cost = self.cost.compute_value(y, y_pred)\n",
    "            costs.append(current_cost)\n",
    "        return costs"
   ]
  },
  {
   "cell_type": "markdown",
   "metadata": {},
   "source": [
    "### Visualization function\n",
    "We implement two functions that plots the loss and the decision boundary."
   ]
  },
  {
   "cell_type": "code",
   "execution_count": 24,
   "metadata": {},
   "outputs": [],
   "source": [
    "def plot_costs(costs):\n",
    "    fig, ax = plt.subplots()\n",
    "    ax.plot(costs)\n",
    "    ax.set_title(\"Loss curve\")\n",
    "    plt.show()"
   ]
  },
  {
   "cell_type": "code",
   "execution_count": 25,
   "metadata": {},
   "outputs": [],
   "source": [
    "def plot_decision_boundary(cl):\n",
    "    x_data = []\n",
    "    y_data = []\n",
    "    for x in range(0, 100):\n",
    "        for y in range(0, 100):\n",
    "            prediction = cl.predict(np.array([[x / 100.0, y / 100.0]]).T)[0]\n",
    "            if (prediction > 0.5):\n",
    "                x_data.append(x / 100.0)\n",
    "                y_data.append(y / 100.0)\n",
    "    plt.plot(x_data, y_data, 'bo')\n",
    "    plt.show()"
   ]
  },
  {
   "cell_type": "markdown",
   "metadata": {},
   "source": [
    "### OR function"
   ]
  },
  {
   "cell_type": "markdown",
   "metadata": {},
   "source": [
    "Let us define the vector of all potential input parameter combinations and their target values."
   ]
  },
  {
   "cell_type": "code",
   "execution_count": 26,
   "metadata": {},
   "outputs": [],
   "source": [
    "X = np.array([[0,0],[0,1],[1,0],[1,1]]).T\n",
    "y_or = np.array([0,1,1,1]).T"
   ]
  },
  {
   "cell_type": "markdown",
   "metadata": {},
   "source": [
    "> Now build a single layer neural network using our implemented classes. "
   ]
  },
  {
   "cell_type": "code",
   "execution_count": 27,
   "metadata": {},
   "outputs": [],
   "source": [
    "layer = Layer(nunits=1, nunits_prev=2, activ_func=Sigmoid())\n",
    "mlp = MLP([layer], BinaryCrossEntropy())"
   ]
  },
  {
   "cell_type": "markdown",
   "metadata": {},
   "source": [
    "> Fit it to the OR data and plot the loss curve. Play around with the hyperparameters `num_epochs` and `learning_rate` to get an optimal outcome."
   ]
  },
  {
   "cell_type": "code",
   "execution_count": 28,
   "metadata": {
    "solution2": "hidden",
    "solution2_first": true
   },
   "outputs": [
    {
     "data": {
      "application/vnd.jupyter.widget-view+json": {
       "model_id": "c77cb43d384742efb6f8bb252387b1bc",
       "version_major": 2,
       "version_minor": 0
      },
      "text/plain": [
       "HBox(children=(FloatProgress(value=0.0, max=50000.0), HTML(value='')))"
      ]
     },
     "metadata": {},
     "output_type": "display_data"
    },
    {
     "name": "stdout",
     "output_type": "stream",
     "text": [
      "\n"
     ]
    },
    {
     "data": {
      "image/png": "[encoded data removed]",
      "text/plain": [
       "<Figure size 432x288 with 1 Axes>"
      ]
     },
     "metadata": {
      "needs_background": "light"
     },
     "output_type": "display_data"
    }
   ],
   "source": [
    "costs = mlp.fit(X, y_or, num_epochs=50000, learning_rate=1e-2)\n",
    "plot_costs(costs)"
   ]
  },
  {
   "cell_type": "code",
   "execution_count": 29,
   "metadata": {
    "solution2": "hidden"
   },
   "outputs": [
    {
     "data": {
      "application/vnd.jupyter.widget-view+json": {
       "model_id": "241761cad7894d14b7c698119e104375",
       "version_major": 2,
       "version_minor": 0
      },
      "text/plain": [
       "HBox(children=(FloatProgress(value=0.0, max=50000.0), HTML(value='')))"
      ]
     },
     "metadata": {},
     "output_type": "display_data"
    },
    {
     "name": "stdout",
     "output_type": "stream",
     "text": [
      "\n"
     ]
    },
    {
     "data": {
      "image/png": "[encoded data removed]",
      "text/plain": [
       "<Figure size 432x288 with 1 Axes>"
      ]
     },
     "metadata": {
      "needs_background": "light"
     },
     "output_type": "display_data"
    }
   ],
   "source": [
    "costs = mlp.fit(X, y_or, num_epochs=50000, learning_rate=1e-2)\n",
    "plot_costs(costs)"
   ]
  },
  {
   "cell_type": "markdown",
   "metadata": {},
   "source": [
    "We plot the decision boundary"
   ]
  },
  {
   "cell_type": "code",
   "execution_count": 30,
   "metadata": {},
   "outputs": [
    {
     "name": "stdout",
     "output_type": "stream",
     "text": [
      "Accuracy: 1.0\n"
     ]
    },
    {
     "data": {
      "image/png": "[encoded data removed]",
      "text/plain": [
       "<Figure size 432x288 with 1 Axes>"
      ]
     },
     "metadata": {
      "needs_background": "light"
     },
     "output_type": "display_data"
    }
   ],
   "source": [
    "y_pred = mlp.predict(X) > 0.5\n",
    "print(\"Accuracy:\", accuracy_score(y_or, y_pred[0]))\n",
    "plot_decision_boundary(mlp)"
   ]
  },
  {
   "cell_type": "markdown",
   "metadata": {},
   "source": [
    "We can see that the or function is correctly learned. Now we visualize the decision boundary. All possible parameter combination located in the blue area would be assigned to 1 by the perceptron, all other combinations to zero. "
   ]
  },
  {
   "cell_type": "markdown",
   "metadata": {},
   "source": [
    "### AND function"
   ]
  },
  {
   "cell_type": "markdown",
   "metadata": {},
   "source": [
    "Now we do the same for the AND function"
   ]
  },
  {
   "cell_type": "code",
   "execution_count": 31,
   "metadata": {},
   "outputs": [],
   "source": [
    "X = np.array([[0,0],[0,1],[1,0],[1,1]]).T\n",
    "y_and = np.array([0,0,0,1]).T"
   ]
  },
  {
   "cell_type": "code",
   "execution_count": 32,
   "metadata": {},
   "outputs": [],
   "source": [
    "layer = Layer(nunits=1, nunits_prev=2, activ_func=Sigmoid())\n",
    "mlp = MLP([layer], BinaryCrossEntropy())"
   ]
  },
  {
   "cell_type": "code",
   "execution_count": 33,
   "metadata": {},
   "outputs": [
    {
     "data": {
      "application/vnd.jupyter.widget-view+json": {
       "model_id": "a07555661dce45f3be8ccb2118128955",
       "version_major": 2,
       "version_minor": 0
      },
      "text/plain": [
       "HBox(children=(FloatProgress(value=0.0, max=50000.0), HTML(value='')))"
      ]
     },
     "metadata": {},
     "output_type": "display_data"
    },
    {
     "name": "stdout",
     "output_type": "stream",
     "text": [
      "\n"
     ]
    },
    {
     "data": {
      "image/png": "[encoded data removed]",
      "text/plain": [
       "<Figure size 432x288 with 1 Axes>"
      ]
     },
     "metadata": {
      "needs_background": "light"
     },
     "output_type": "display_data"
    }
   ],
   "source": [
    "costs = mlp.fit(X, y_and, num_epochs=50000, learning_rate=1e-2)\n",
    "plot_costs(costs)"
   ]
  },
  {
   "cell_type": "code",
   "execution_count": 34,
   "metadata": {},
   "outputs": [
    {
     "name": "stdout",
     "output_type": "stream",
     "text": [
      "Accuracy: 1.0\n"
     ]
    },
    {
     "data": {
      "image/png": "[encoded data removed]",
      "text/plain": [
       "<Figure size 432x288 with 1 Axes>"
      ]
     },
     "metadata": {
      "needs_background": "light"
     },
     "output_type": "display_data"
    }
   ],
   "source": [
    "y_pred = mlp.predict(X) > 0.5\n",
    "print(\"Accuracy:\", accuracy_score(y_and, y_pred[0]))\n",
    "plot_decision_boundary(mlp)"
   ]
  },
  {
   "cell_type": "markdown",
   "metadata": {},
   "source": [
    "Let us again determine the decision boundary. You can see that the decision boundary is moved upwwards in comparison with\n",
    "the OR function."
   ]
  },
  {
   "cell_type": "markdown",
   "metadata": {},
   "source": [
    "### XOR function\n",
    "Finally, we try to train the exclusive or function **XOR**, which assumes the value of 1 if either of the input values are 1 but not both simultaneously. You should see that this is indeed not possible, since this function is not linearly separable. "
   ]
  },
  {
   "cell_type": "code",
   "execution_count": 35,
   "metadata": {},
   "outputs": [],
   "source": [
    "X = np.array([[0,0],[0,1],[1,0],[1,1]]).T\n",
    "y_xor = np.array([0,1,1,0]).T"
   ]
  },
  {
   "cell_type": "markdown",
   "metadata": {},
   "source": [
    "We fit a single-layer perceptron"
   ]
  },
  {
   "cell_type": "code",
   "execution_count": 36,
   "metadata": {},
   "outputs": [
    {
     "data": {
      "application/vnd.jupyter.widget-view+json": {
       "model_id": "aeff4610e26f40ad9f15adefc29446f9",
       "version_major": 2,
       "version_minor": 0
      },
      "text/plain": [
       "HBox(children=(FloatProgress(value=0.0, max=1000.0), HTML(value='')))"
      ]
     },
     "metadata": {},
     "output_type": "display_data"
    },
    {
     "name": "stdout",
     "output_type": "stream",
     "text": [
      "\n"
     ]
    },
    {
     "data": {
      "image/png": "[encoded data removed]",
      "text/plain": [
       "<Figure size 432x288 with 1 Axes>"
      ]
     },
     "metadata": {
      "needs_background": "light"
     },
     "output_type": "display_data"
    }
   ],
   "source": [
    "layer = Layer(nunits=1, nunits_prev=2, activ_func=Sigmoid())\n",
    "mlp = MLP([layer], BinaryCrossEntropy())\n",
    "costs = mlp.fit(X, y_xor, num_epochs=1000, learning_rate=1e-1)\n",
    "plot_costs(costs)"
   ]
  },
  {
   "cell_type": "markdown",
   "metadata": {},
   "source": [
    "The model seem to converge. However the loss is pretty high! Let's plot the decision boundary."
   ]
  },
  {
   "cell_type": "code",
   "execution_count": 37,
   "metadata": {},
   "outputs": [
    {
     "name": "stdout",
     "output_type": "stream",
     "text": [
      "Accuracy: 0.75\n"
     ]
    },
    {
     "data": {
      "image/png": "[encoded data removed]",
      "text/plain": [
       "<Figure size 432x288 with 1 Axes>"
      ]
     },
     "metadata": {
      "needs_background": "light"
     },
     "output_type": "display_data"
    }
   ],
   "source": [
    "y_pred = mlp.predict(X) > 0.5\n",
    "print(\"Accuracy:\", accuracy_score(y_xor, y_pred[0]))\n",
    "plot_decision_boundary(mlp)"
   ]
  },
  {
   "cell_type": "markdown",
   "metadata": {},
   "source": [
    "This does not look correct..."
   ]
  },
  {
   "cell_type": "markdown",
   "metadata": {},
   "source": [
    "Let's build a multi layer perceptron (MLP) with one hidden layer. We will use the tanh-activation function for the hidden layers."
   ]
  },
  {
   "cell_type": "code",
   "execution_count": 38,
   "metadata": {},
   "outputs": [],
   "source": [
    "input_layer = Layer(nunits=20, nunits_prev=2, activ_func=Tanh())\n",
    "hidden_layer = Layer(nunits=20, nunits_prev=20, activ_func=Tanh())\n",
    "output_layer = Layer(nunits=1, nunits_prev=20, activ_func=Sigmoid())\n",
    "mlp = MLP([input_layer, hidden_layer, output_layer], BinaryCrossEntropy())"
   ]
  },
  {
   "cell_type": "markdown",
   "metadata": {},
   "source": [
    "> Fit it to the data and display the decision boundary."
   ]
  },
  {
   "cell_type": "code",
   "execution_count": 39,
   "metadata": {},
   "outputs": [
    {
     "data": {
      "application/vnd.jupyter.widget-view+json": {
       "model_id": "288ffc3d39524b7186f7d0ef1987ff8d",
       "version_major": 2,
       "version_minor": 0
      },
      "text/plain": [
       "HBox(children=(FloatProgress(value=0.0, max=100000.0), HTML(value='')))"
      ]
     },
     "metadata": {},
     "output_type": "display_data"
    },
    {
     "name": "stdout",
     "output_type": "stream",
     "text": [
      "\n"
     ]
    },
    {
     "data": {
      "image/png": "[encoded data removed]",
      "text/plain": [
       "<Figure size 432x288 with 1 Axes>"
      ]
     },
     "metadata": {
      "needs_background": "light"
     },
     "output_type": "display_data"
    }
   ],
   "source": [
    "costs = mlp.fit(X, y_xor, num_epochs=100000, learning_rate=1e-3)\n",
    "plot_costs(costs)"
   ]
  },
  {
   "cell_type": "code",
   "execution_count": 40,
   "metadata": {},
   "outputs": [
    {
     "name": "stdout",
     "output_type": "stream",
     "text": [
      "Accuracy: 1.0\n"
     ]
    },
    {
     "data": {
      "image/png": "[encoded data removed]",
      "text/plain": [
       "<Figure size 432x288 with 1 Axes>"
      ]
     },
     "metadata": {
      "needs_background": "light"
     },
     "output_type": "display_data"
    }
   ],
   "source": [
    "y_pred = mlp.predict(X) > 0.5\n",
    "print(\"Accuracy:\", accuracy_score(y_xor, y_pred[0]))\n",
    "plot_decision_boundary(mlp)"
   ]
  },
  {
   "cell_type": "markdown",
   "metadata": {},
   "source": [
    "This looks much better..."
   ]
  },
  {
   "cell_type": "markdown",
   "metadata": {},
   "source": [
    "> Play around with the hyperparameters: for instance try more or less units or change the activation function. You can also try to make the network deeper by stacking more layers."
   ]
  },
  {
   "cell_type": "markdown",
   "metadata": {},
   "source": [
    "## Airplane classification"
   ]
  },
  {
   "cell_type": "code",
   "execution_count": 28,
   "metadata": {
    "scrolled": true
   },
   "outputs": [
    {
     "data": {
      "text/html": [
       "<div>\n",
       "<style scoped>\n",
       "    .dataframe tbody tr th:only-of-type {\n",
       "        vertical-align: middle;\n",
       "    }\n",
       "\n",
       "    .dataframe tbody tr th {\n",
       "        vertical-align: top;\n",
       "    }\n",
       "\n",
       "    .dataframe thead th {\n",
       "        text-align: right;\n",
       "    }\n",
       "</style>\n",
       "<table border=\"1\" class=\"dataframe\">\n",
       "  <thead>\n",
       "    <tr style=\"text-align: right;\">\n",
       "      <th></th>\n",
       "      <th>mass</th>\n",
       "      <th>speed</th>\n",
       "      <th>class</th>\n",
       "    </tr>\n",
       "  </thead>\n",
       "  <tbody>\n",
       "    <tr>\n",
       "      <th>0</th>\n",
       "      <td>1.0</td>\n",
       "      <td>0.1</td>\n",
       "      <td>Bomber</td>\n",
       "    </tr>\n",
       "    <tr>\n",
       "      <th>1</th>\n",
       "      <td>2.0</td>\n",
       "      <td>0.2</td>\n",
       "      <td>Bomber</td>\n",
       "    </tr>\n",
       "    <tr>\n",
       "      <th>2</th>\n",
       "      <td>0.1</td>\n",
       "      <td>0.3</td>\n",
       "      <td>Fighter</td>\n",
       "    </tr>\n",
       "    <tr>\n",
       "      <th>3</th>\n",
       "      <td>2.0</td>\n",
       "      <td>0.3</td>\n",
       "      <td>Bomber</td>\n",
       "    </tr>\n",
       "    <tr>\n",
       "      <th>4</th>\n",
       "      <td>0.2</td>\n",
       "      <td>0.4</td>\n",
       "      <td>Fighter</td>\n",
       "    </tr>\n",
       "    <tr>\n",
       "      <th>5</th>\n",
       "      <td>3.0</td>\n",
       "      <td>0.4</td>\n",
       "      <td>Bomber</td>\n",
       "    </tr>\n",
       "    <tr>\n",
       "      <th>6</th>\n",
       "      <td>0.1</td>\n",
       "      <td>0.5</td>\n",
       "      <td>Fighter</td>\n",
       "    </tr>\n",
       "    <tr>\n",
       "      <th>7</th>\n",
       "      <td>1.5</td>\n",
       "      <td>0.5</td>\n",
       "      <td>Bomber</td>\n",
       "    </tr>\n",
       "    <tr>\n",
       "      <th>8</th>\n",
       "      <td>0.5</td>\n",
       "      <td>0.6</td>\n",
       "      <td>Fighter</td>\n",
       "    </tr>\n",
       "    <tr>\n",
       "      <th>9</th>\n",
       "      <td>1.6</td>\n",
       "      <td>0.7</td>\n",
       "      <td>Fighter</td>\n",
       "    </tr>\n",
       "  </tbody>\n",
       "</table>\n",
       "</div>"
      ],
      "text/plain": [
       "   mass  speed    class\n",
       "0   1.0    0.1   Bomber\n",
       "1   2.0    0.2   Bomber\n",
       "2   0.1    0.3  Fighter\n",
       "3   2.0    0.3   Bomber\n",
       "4   0.2    0.4  Fighter\n",
       "5   3.0    0.4   Bomber\n",
       "6   0.1    0.5  Fighter\n",
       "7   1.5    0.5   Bomber\n",
       "8   0.5    0.6  Fighter\n",
       "9   1.6    0.7  Fighter"
      ]
     },
     "execution_count": 28,
     "metadata": {},
     "output_type": "execute_result"
    }
   ],
   "source": [
    "df = pd.read_csv(\"airplanes.csv\", sep=\";\")\n",
    "df"
   ]
  },
  {
   "cell_type": "markdown",
   "metadata": {},
   "source": [
    "Let's suppose we want to classify airplanes. The table above shows training\n",
    "data consisting of measured masses and top speeds of known airplanes. Notice\n",
    "that the data are given in unspecified units.\n",
    "\n",
    "The aim is to construct a single layer feedforward neural network with 3 input\n",
    "neurons including the bias neuron and 1 output neuron which can classify any\n",
    "Bomber and Fighter."
   ]
  },
  {
   "cell_type": "code",
   "execution_count": 29,
   "metadata": {
    "scrolled": true
   },
   "outputs": [
    {
     "data": {
      "text/plain": [
       "<AxesSubplot:xlabel='mass', ylabel='speed'>"
      ]
     },
     "execution_count": 29,
     "metadata": {},
     "output_type": "execute_result"
    },
    {
     "data": {
      "image/png": "[encoded data removed]",
      "text/plain": [
       "<Figure size 432x288 with 1 Axes>"
      ]
     },
     "metadata": {
      "needs_background": "light"
     },
     "output_type": "display_data"
    }
   ],
   "source": [
    "sns.scatterplot(x=\"mass\", y=\"speed\", hue=\"class\", data=df,  palette=['red','blue'], legend='full')"
   ]
  },
  {
   "cell_type": "markdown",
   "metadata": {},
   "source": [
    "> Solve this problem by either\n",
    "* learning a neural net using the code we have implemented above or\n",
    "* by graphically constructing a decision plane, describing it analytically and deriving from this the weights and bias of the neural net."
   ]
  },
  {
   "cell_type": "code",
   "execution_count": 30,
   "metadata": {},
   "outputs": [],
   "source": [
    "X = df[[\"mass\", \"speed\"]].values.T\n",
    "y = df[\"class\"].apply(lambda x: 1 if x==\"Bomber\" else 0).values.reshape(-1, 1).T"
   ]
  },
  {
   "cell_type": "code",
   "execution_count": 32,
   "metadata": {},
   "outputs": [],
   "source": [
    "# Construct a single layer feed forward network\n",
    "layer = Layer(nunits=1, nunits_prev=2, activ_func=Sigmoid())\n",
    "mlp = MLP([layer], BinaryCrossEntropy())"
   ]
  },
  {
   "cell_type": "code",
   "execution_count": 33,
   "metadata": {},
   "outputs": [
    {
     "data": {
      "application/vnd.jupyter.widget-view+json": {
       "model_id": "f4f457ecb0ea4e47b5f4b63a80467b70",
       "version_major": 2,
       "version_minor": 0
      },
      "text/plain": [
       "HBox(children=(FloatProgress(value=0.0, max=200000.0), HTML(value='')))"
      ]
     },
     "metadata": {},
     "output_type": "display_data"
    },
    {
     "name": "stdout",
     "output_type": "stream",
     "text": [
      "\n"
     ]
    },
    {
     "data": {
      "image/png": "[encoded data removed]",
      "text/plain": [
       "<Figure size 432x288 with 1 Axes>"
      ]
     },
     "metadata": {
      "needs_background": "light"
     },
     "output_type": "display_data"
    }
   ],
   "source": [
    "# Fit the network to the data\n",
    "costs = mlp.fit(X, y, num_epochs=200000, learning_rate=1e-2)\n",
    "plot_costs(costs)"
   ]
  },
  {
   "cell_type": "code",
   "execution_count": 34,
   "metadata": {},
   "outputs": [
    {
     "name": "stdout",
     "output_type": "stream",
     "text": [
      "[[-0.01348453]]\n"
     ]
    }
   ],
   "source": [
    "# Access the weights\n",
    "weights = layer.gradient_weights(layer.activations)\n",
    "bias = layer.gradient_bias()\n",
    "print(weights)"
   ]
  },
  {
   "cell_type": "markdown",
   "metadata": {},
   "source": [
    "#### Plot decision boundary\n",
    "If you have constructed the weight matrix and bias (by either fitting the model or solving the problem graphically), you can use the following code to plot the decision boundary and verify your solution."
   ]
  },
  {
   "cell_type": "code",
   "execution_count": 94,
   "metadata": {},
   "outputs": [],
   "source": [
    "def lineparams(weight, bias):\n",
    "    \"\"\"\n",
    "    Translates the weights vector and the bias into line parameters with a x2-intercept 'a' and a slope 's'.\n",
    "\n",
    "    Parameters:\n",
    "    w -- weights vector of shape (1,2)\n",
    "    b -- bias (a number)\n",
    "    \n",
    "    Returns:\n",
    "    a -- x2-intercept\n",
    "    s -- slope of the line in the (x1,x2)-plane\n",
    "    \"\"\"\n",
    "    s = 0\n",
    "    if weight[0,1] != 0:\n",
    "        s = -weight[0,0] / weight[0,1]\n",
    "\n",
    "    a = -(bias / weight[0,1])\n",
    "    \n",
    "    return a, s\n",
    "\n",
    "def plot_aeroplane_decision_boundary(df, X, weights, bias):\n",
    "    a, s = lineparams(weights, bias)\n",
    "    xs = np.linspace(X.min()-0.1, X.max()+0.1, 100)\n",
    "    ys = (s * xs + a).reshape(-1)\n",
    "    ax = sns.scatterplot(x=\"mass\", y=\"speed\", hue=\"class\", data=df,  palette=['red','blue'], legend='full')\n",
    "    ax.plot(xs, ys)"
   ]
  },
  {
   "cell_type": "code",
   "execution_count": 95,
   "metadata": {},
   "outputs": [
    {
     "ename": "TypeError",
     "evalue": "list indices must be integers or slices, not tuple",
     "output_type": "error",
     "traceback": [
      "\u001b[0;31m---------------------------------------------------------------------------\u001b[0m",
      "\u001b[0;31mTypeError\u001b[0m                                 Traceback (most recent call last)",
      "\u001b[0;32m<ipython-input-95-6ac3291c7d3d>\u001b[0m in \u001b[0;36m<module>\u001b[0;34m\u001b[0m\n\u001b[1;32m      1\u001b[0m \u001b[0;31m# verify your solution\u001b[0m\u001b[0;34m\u001b[0m\u001b[0;34m\u001b[0m\u001b[0;34m\u001b[0m\u001b[0m\n\u001b[0;32m----> 2\u001b[0;31m \u001b[0mplot_aeroplane_decision_boundary\u001b[0m\u001b[0;34m(\u001b[0m\u001b[0mdf\u001b[0m\u001b[0;34m,\u001b[0m \u001b[0mX\u001b[0m\u001b[0;34m,\u001b[0m \u001b[0;34m[\u001b[0m\u001b[0mweights_input\u001b[0m\u001b[0;34m,\u001b[0m \u001b[0mweights_output\u001b[0m\u001b[0;34m]\u001b[0m\u001b[0;34m,\u001b[0m \u001b[0mbias\u001b[0m\u001b[0;34m)\u001b[0m\u001b[0;34m\u001b[0m\u001b[0;34m\u001b[0m\u001b[0m\n\u001b[0m",
      "\u001b[0;32m<ipython-input-94-020b145d3789>\u001b[0m in \u001b[0;36mplot_aeroplane_decision_boundary\u001b[0;34m(df, X, weights, bias)\u001b[0m\n\u001b[1;32m     20\u001b[0m \u001b[0;34m\u001b[0m\u001b[0m\n\u001b[1;32m     21\u001b[0m \u001b[0;32mdef\u001b[0m \u001b[0mplot_aeroplane_decision_boundary\u001b[0m\u001b[0;34m(\u001b[0m\u001b[0mdf\u001b[0m\u001b[0;34m,\u001b[0m \u001b[0mX\u001b[0m\u001b[0;34m,\u001b[0m \u001b[0mweights\u001b[0m\u001b[0;34m,\u001b[0m \u001b[0mbias\u001b[0m\u001b[0;34m)\u001b[0m\u001b[0;34m:\u001b[0m\u001b[0;34m\u001b[0m\u001b[0;34m\u001b[0m\u001b[0m\n\u001b[0;32m---> 22\u001b[0;31m     \u001b[0ma\u001b[0m\u001b[0;34m,\u001b[0m \u001b[0ms\u001b[0m \u001b[0;34m=\u001b[0m \u001b[0mlineparams\u001b[0m\u001b[0;34m(\u001b[0m\u001b[0mweights\u001b[0m\u001b[0;34m,\u001b[0m \u001b[0mbias\u001b[0m\u001b[0;34m)\u001b[0m\u001b[0;34m\u001b[0m\u001b[0;34m\u001b[0m\u001b[0m\n\u001b[0m\u001b[1;32m     23\u001b[0m     \u001b[0mxs\u001b[0m \u001b[0;34m=\u001b[0m \u001b[0mnp\u001b[0m\u001b[0;34m.\u001b[0m\u001b[0mlinspace\u001b[0m\u001b[0;34m(\u001b[0m\u001b[0mX\u001b[0m\u001b[0;34m.\u001b[0m\u001b[0mmin\u001b[0m\u001b[0;34m(\u001b[0m\u001b[0;34m)\u001b[0m\u001b[0;34m-\u001b[0m\u001b[0;36m0.1\u001b[0m\u001b[0;34m,\u001b[0m \u001b[0mX\u001b[0m\u001b[0;34m.\u001b[0m\u001b[0mmax\u001b[0m\u001b[0;34m(\u001b[0m\u001b[0;34m)\u001b[0m\u001b[0;34m+\u001b[0m\u001b[0;36m0.1\u001b[0m\u001b[0;34m,\u001b[0m \u001b[0;36m100\u001b[0m\u001b[0;34m)\u001b[0m\u001b[0;34m\u001b[0m\u001b[0;34m\u001b[0m\u001b[0m\n\u001b[1;32m     24\u001b[0m     \u001b[0mys\u001b[0m \u001b[0;34m=\u001b[0m \u001b[0;34m(\u001b[0m\u001b[0ms\u001b[0m \u001b[0;34m*\u001b[0m \u001b[0mxs\u001b[0m \u001b[0;34m+\u001b[0m \u001b[0ma\u001b[0m\u001b[0;34m)\u001b[0m\u001b[0;34m.\u001b[0m\u001b[0mreshape\u001b[0m\u001b[0;34m(\u001b[0m\u001b[0;34m-\u001b[0m\u001b[0;36m1\u001b[0m\u001b[0;34m)\u001b[0m\u001b[0;34m\u001b[0m\u001b[0;34m\u001b[0m\u001b[0m\n",
      "\u001b[0;32m<ipython-input-94-020b145d3789>\u001b[0m in \u001b[0;36mlineparams\u001b[0;34m(weight, bias)\u001b[0m\n\u001b[1;32m     12\u001b[0m     \"\"\"\n\u001b[1;32m     13\u001b[0m     \u001b[0ms\u001b[0m \u001b[0;34m=\u001b[0m \u001b[0;36m0\u001b[0m\u001b[0;34m\u001b[0m\u001b[0;34m\u001b[0m\u001b[0m\n\u001b[0;32m---> 14\u001b[0;31m     \u001b[0;32mif\u001b[0m \u001b[0mweight\u001b[0m\u001b[0;34m[\u001b[0m\u001b[0;36m0\u001b[0m\u001b[0;34m,\u001b[0m\u001b[0;36m1\u001b[0m\u001b[0;34m]\u001b[0m \u001b[0;34m!=\u001b[0m \u001b[0;36m0\u001b[0m\u001b[0;34m:\u001b[0m\u001b[0;34m\u001b[0m\u001b[0;34m\u001b[0m\u001b[0m\n\u001b[0m\u001b[1;32m     15\u001b[0m         \u001b[0ms\u001b[0m \u001b[0;34m=\u001b[0m \u001b[0;34m-\u001b[0m\u001b[0mweight\u001b[0m\u001b[0;34m[\u001b[0m\u001b[0;36m0\u001b[0m\u001b[0;34m,\u001b[0m\u001b[0;36m0\u001b[0m\u001b[0;34m]\u001b[0m \u001b[0;34m/\u001b[0m \u001b[0mweight\u001b[0m\u001b[0;34m[\u001b[0m\u001b[0;36m0\u001b[0m\u001b[0;34m,\u001b[0m\u001b[0;36m1\u001b[0m\u001b[0;34m]\u001b[0m\u001b[0;34m\u001b[0m\u001b[0;34m\u001b[0m\u001b[0m\n\u001b[1;32m     16\u001b[0m \u001b[0;34m\u001b[0m\u001b[0m\n",
      "\u001b[0;31mTypeError\u001b[0m: list indices must be integers or slices, not tuple"
     ]
    }
   ],
   "source": [
    "# verify your solution\n",
    "plot_aeroplane_decision_boundary(df, X, [weights_input, weights_output], bias) "
   ]
  },
  {
   "cell_type": "markdown",
   "metadata": {},
   "source": [
    "#### Calculate accuracy\n",
    "If the model has learnt the decision boundary correctly, the accuracy should be 1.0."
   ]
  },
  {
   "cell_type": "code",
   "execution_count": 83,
   "metadata": {
    "scrolled": true
   },
   "outputs": [
    {
     "data": {
      "text/plain": [
       "1.0"
      ]
     },
     "execution_count": 83,
     "metadata": {},
     "output_type": "execute_result"
    }
   ],
   "source": [
    "y_pred = mlp.predict(X) > 0.5\n",
    "accuracy_score(y, y_pred)"
   ]
  },
  {
   "cell_type": "markdown",
   "metadata": {},
   "source": [
    "## Skin disease dataset"
   ]
  },
  {
   "cell_type": "markdown",
   "metadata": {},
   "source": [
    "Now let us apply a neural network on the skin disesase data. To reduce the training time we reduce the amount of data in our dataset."
   ]
  },
  {
   "cell_type": "code",
   "execution_count": 84,
   "metadata": {},
   "outputs": [
    {
     "data": {
      "text/html": [
       "<div>\n",
       "<style scoped>\n",
       "    .dataframe tbody tr th:only-of-type {\n",
       "        vertical-align: middle;\n",
       "    }\n",
       "\n",
       "    .dataframe tbody tr th {\n",
       "        vertical-align: top;\n",
       "    }\n",
       "\n",
       "    .dataframe thead th {\n",
       "        text-align: right;\n",
       "    }\n",
       "</style>\n",
       "<table border=\"1\" class=\"dataframe\">\n",
       "  <thead>\n",
       "    <tr style=\"text-align: right;\">\n",
       "      <th></th>\n",
       "      <th>class</th>\n",
       "      <th>t0</th>\n",
       "      <th>t1</th>\n",
       "      <th>t2</th>\n",
       "      <th>t3</th>\n",
       "      <th>t4</th>\n",
       "      <th>t5</th>\n",
       "      <th>t6</th>\n",
       "      <th>t7</th>\n",
       "      <th>t8</th>\n",
       "      <th>t9</th>\n",
       "      <th>t10</th>\n",
       "      <th>t11</th>\n",
       "      <th>t12</th>\n",
       "      <th>t13</th>\n",
       "    </tr>\n",
       "  </thead>\n",
       "  <tbody>\n",
       "    <tr>\n",
       "      <th>381942</th>\n",
       "      <td>0</td>\n",
       "      <td>0.0</td>\n",
       "      <td>1.0</td>\n",
       "      <td>145.080902</td>\n",
       "      <td>146.886978</td>\n",
       "      <td>116.368233</td>\n",
       "      <td>0.852263</td>\n",
       "      <td>1.789740</td>\n",
       "      <td>5.468914</td>\n",
       "      <td>0.429049</td>\n",
       "      <td>-1.111748</td>\n",
       "      <td>-5.087632</td>\n",
       "      <td>1.171761</td>\n",
       "      <td>2.293956</td>\n",
       "      <td>7.656343</td>\n",
       "    </tr>\n",
       "    <tr>\n",
       "      <th>285452</th>\n",
       "      <td>0</td>\n",
       "      <td>0.0</td>\n",
       "      <td>1.0</td>\n",
       "      <td>146.769180</td>\n",
       "      <td>140.770966</td>\n",
       "      <td>156.528854</td>\n",
       "      <td>1.234167</td>\n",
       "      <td>1.129567</td>\n",
       "      <td>4.928933</td>\n",
       "      <td>1.465761</td>\n",
       "      <td>0.876750</td>\n",
       "      <td>-5.720662</td>\n",
       "      <td>2.065061</td>\n",
       "      <td>1.538060</td>\n",
       "      <td>7.634271</td>\n",
       "    </tr>\n",
       "    <tr>\n",
       "      <th>46176</th>\n",
       "      <td>0</td>\n",
       "      <td>0.0</td>\n",
       "      <td>1.0</td>\n",
       "      <td>144.793808</td>\n",
       "      <td>137.743149</td>\n",
       "      <td>116.634682</td>\n",
       "      <td>0.859864</td>\n",
       "      <td>0.766669</td>\n",
       "      <td>5.638972</td>\n",
       "      <td>-0.596336</td>\n",
       "      <td>-0.568662</td>\n",
       "      <td>4.483815</td>\n",
       "      <td>1.318225</td>\n",
       "      <td>1.086488</td>\n",
       "      <td>8.017387</td>\n",
       "    </tr>\n",
       "    <tr>\n",
       "      <th>182241</th>\n",
       "      <td>0</td>\n",
       "      <td>0.0</td>\n",
       "      <td>1.0</td>\n",
       "      <td>149.502670</td>\n",
       "      <td>142.475311</td>\n",
       "      <td>146.461029</td>\n",
       "      <td>1.189443</td>\n",
       "      <td>1.576754</td>\n",
       "      <td>6.324823</td>\n",
       "      <td>-0.323531</td>\n",
       "      <td>-1.057295</td>\n",
       "      <td>-3.558952</td>\n",
       "      <td>1.478133</td>\n",
       "      <td>2.090319</td>\n",
       "      <td>7.819798</td>\n",
       "    </tr>\n",
       "    <tr>\n",
       "      <th>184566</th>\n",
       "      <td>0</td>\n",
       "      <td>0.0</td>\n",
       "      <td>1.0</td>\n",
       "      <td>146.325409</td>\n",
       "      <td>146.044617</td>\n",
       "      <td>124.088638</td>\n",
       "      <td>1.026422</td>\n",
       "      <td>2.959136</td>\n",
       "      <td>7.670094</td>\n",
       "      <td>-0.660247</td>\n",
       "      <td>-0.854649</td>\n",
       "      <td>-3.818445</td>\n",
       "      <td>1.333956</td>\n",
       "      <td>3.501565</td>\n",
       "      <td>9.502645</td>\n",
       "    </tr>\n",
       "  </tbody>\n",
       "</table>\n",
       "</div>"
      ],
      "text/plain": [
       "        class   t0   t1          t2          t3          t4        t5  \\\n",
       "381942      0  0.0  1.0  145.080902  146.886978  116.368233  0.852263   \n",
       "285452      0  0.0  1.0  146.769180  140.770966  156.528854  1.234167   \n",
       "46176       0  0.0  1.0  144.793808  137.743149  116.634682  0.859864   \n",
       "182241      0  0.0  1.0  149.502670  142.475311  146.461029  1.189443   \n",
       "184566      0  0.0  1.0  146.325409  146.044617  124.088638  1.026422   \n",
       "\n",
       "              t6        t7        t8        t9       t10       t11       t12  \\\n",
       "381942  1.789740  5.468914  0.429049 -1.111748 -5.087632  1.171761  2.293956   \n",
       "285452  1.129567  4.928933  1.465761  0.876750 -5.720662  2.065061  1.538060   \n",
       "46176   0.766669  5.638972 -0.596336 -0.568662  4.483815  1.318225  1.086488   \n",
       "182241  1.576754  6.324823 -0.323531 -1.057295 -3.558952  1.478133  2.090319   \n",
       "184566  2.959136  7.670094 -0.660247 -0.854649 -3.818445  1.333956  3.501565   \n",
       "\n",
       "             t13  \n",
       "381942  7.656343  \n",
       "285452  7.634271  \n",
       "46176   8.017387  \n",
       "182241  7.819798  \n",
       "184566  9.502645  "
      ]
     },
     "execution_count": 84,
     "metadata": {},
     "output_type": "execute_result"
    }
   ],
   "source": [
    "df = pd.read_csv(\"skin_disease.csv\")\n",
    "df = df.sample(frac=1)\n",
    "df = df.iloc[0:100000]\n",
    "df.head()"
   ]
  },
  {
   "cell_type": "code",
   "execution_count": 85,
   "metadata": {},
   "outputs": [],
   "source": [
    "X = df.drop(columns=[\"class\"])\n",
    "y = df[\"class\"]"
   ]
  },
  {
   "cell_type": "markdown",
   "metadata": {},
   "source": [
    "> Split the data into a train and test set. Use 40% of the data for the test set."
   ]
  },
  {
   "cell_type": "code",
   "execution_count": 86,
   "metadata": {
    "solution2": "hidden",
    "solution2_first": true
   },
   "outputs": [],
   "source": [
    "X_train, X_test, y_train, y_test = train_test_split(X, y, test_size=0.4, random_state=42)"
   ]
  },
  {
   "cell_type": "code",
   "execution_count": 87,
   "metadata": {
    "solution2": "hidden"
   },
   "outputs": [],
   "source": [
    "X_train, X_test, y_train, y_test = train_test_split(X, y, test_size=0.4, random_state=42)"
   ]
  },
  {
   "cell_type": "markdown",
   "metadata": {},
   "source": [
    "We define our Multi Layer Perceptron with 2 hidden layers. This time we use the [MLPClassifier](https://scikit-learn.org/stable/modules/generated/sklearn.neural_network.MLPClassifier.html) implementation from Scikit-Learn."
   ]
  },
  {
   "cell_type": "code",
   "execution_count": 88,
   "metadata": {},
   "outputs": [],
   "source": [
    "mlp = MLPClassifier(alpha=0.00002, activation='tanh', max_iter=10000, \n",
    "                    hidden_layer_sizes=(30,15), batch_size=1000, tol=0.00000001)"
   ]
  },
  {
   "cell_type": "markdown",
   "metadata": {},
   "source": [
    "> Train the neural network on X_train, y_train"
   ]
  },
  {
   "cell_type": "code",
   "execution_count": 89,
   "metadata": {
    "solution2": "hidden",
    "solution2_first": true
   },
   "outputs": [
    {
     "data": {
      "text/plain": [
       "MLPClassifier(activation='tanh', alpha=2e-05, batch_size=1000,\n",
       "              hidden_layer_sizes=(30, 15), max_iter=10000, tol=1e-08)"
      ]
     },
     "execution_count": 89,
     "metadata": {},
     "output_type": "execute_result"
    }
   ],
   "source": [
    "mlp.fit(X_train, y_train)"
   ]
  },
  {
   "cell_type": "code",
   "execution_count": null,
   "metadata": {
    "solution2": "hidden"
   },
   "outputs": [],
   "source": [
    "mlp.fit(X_train, y_train)"
   ]
  },
  {
   "cell_type": "markdown",
   "metadata": {},
   "source": [
    "We can plot the loss by accessing the attribute `loss_curve_`."
   ]
  },
  {
   "cell_type": "code",
   "execution_count": 90,
   "metadata": {},
   "outputs": [
    {
     "data": {
      "image/png": "[encoded data removed]",
      "text/plain": [
       "<Figure size 432x288 with 1 Axes>"
      ]
     },
     "metadata": {
      "needs_background": "light"
     },
     "output_type": "display_data"
    }
   ],
   "source": [
    "plot_costs(mlp.loss_curve_)"
   ]
  },
  {
   "cell_type": "markdown",
   "metadata": {},
   "source": [
    "> Predict the values on the test set and calculate the accuracy and the f1-score"
   ]
  },
  {
   "cell_type": "code",
   "execution_count": 91,
   "metadata": {
    "solution2": "hidden",
    "solution2_first": true
   },
   "outputs": [
    {
     "name": "stdout",
     "output_type": "stream",
     "text": [
      "Accuracy 0.94605\n",
      "F1 0.6939007092198581\n"
     ]
    }
   ],
   "source": [
    "y_pred = mlp.predict(X_test)\n",
    "\n",
    "accuracy = accuracy_score(y_test, y_pred)\n",
    "f1 = f1_score(y_test, y_pred)\n",
    "\n",
    "print(\"Accuracy\", accuracy)\n",
    "print(\"F1\", f1)"
   ]
  },
  {
   "cell_type": "code",
   "execution_count": null,
   "metadata": {
    "solution2": "hidden"
   },
   "outputs": [],
   "source": []
  }
 ],
 "metadata": {
  "kernelspec": {
   "display_name": "Python 3",
   "language": "python",
   "name": "python3"
  },
  "language_info": {
   "codemirror_mode": {
    "name": "ipython",
    "version": 3
   },
   "file_extension": ".py",
   "mimetype": "text/x-python",
   "name": "python",
   "nbconvert_exporter": "python",
   "pygments_lexer": "ipython3",
   "version": "3.8.1"
  }
 },
 "nbformat": 4,
 "nbformat_minor": 2
}
