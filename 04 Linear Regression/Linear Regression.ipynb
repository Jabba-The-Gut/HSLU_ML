{
 "cells": [
  {
   "cell_type": "markdown",
   "metadata": {},
   "source": [
    "# Linear Regression \n",
    "In this notebook we create and apply a linear regression model."
   ]
  },
  {
   "cell_type": "markdown",
   "metadata": {},
   "source": [
    "We import the modules that are required to solve all exercises"
   ]
  },
  {
   "cell_type": "code",
   "execution_count": 31,
   "metadata": {},
   "outputs": [],
   "source": [
    "import numpy as np\n",
    "import pandas as pd\n",
    "\n",
    "import matplotlib.pyplot as plt\n",
    "\n",
    "from sklearn import datasets, linear_model\n",
    "from sklearn.metrics import mean_squared_error, r2_score\n",
    "from sklearn.linear_model import LinearRegression\n",
    "\n",
    "import seaborn as sns\n",
    "from sklearn.model_selection import train_test_split\n",
    "from sklearn.metrics import r2_score, mean_absolute_error\n",
    "from scipy.stats import t"
   ]
  },
  {
   "cell_type": "markdown",
   "metadata": {},
   "source": [
    "> Answer the questions in the ILIAS quiz **Linear Regression**."
   ]
  },
  {
   "cell_type": "markdown",
   "metadata": {},
   "source": [
    "## Part 1 - Simple Linear Regression: Disk I/O vs. CPU Time\n",
    "We consider the simple example from the slides where we compute the regression line for the disk I/O and CPU time."
   ]
  },
  {
   "cell_type": "code",
   "execution_count": 32,
   "metadata": {},
   "outputs": [],
   "source": [
    "X = np.array([14, 16, 27, 42, 83, 50, 39])\n",
    "y = np.array([2, 5, 7, 9, 20, 13, 10])"
   ]
  },
  {
   "cell_type": "markdown",
   "metadata": {},
   "source": [
    "Let's display the datapoints in a scatter plot."
   ]
  },
  {
   "cell_type": "code",
   "execution_count": 33,
   "metadata": {},
   "outputs": [
    {
     "name": "stderr",
     "output_type": "stream",
     "text": [
      "/Users/jabbathegut/.local/share/virtualenvs/HSLU_ML-myLqnJHJ/lib/python3.8/site-packages/seaborn/_decorators.py:36: FutureWarning: Pass the following variables as keyword args: x, y. From version 0.12, the only valid positional argument will be `data`, and passing other arguments without an explicit keyword will result in an error or misinterpretation.\n",
      "  warnings.warn(\n"
     ]
    },
    {
     "data": {
      "text/plain": [
       "Text(0, 0.5, 'CPU Time')"
      ]
     },
     "execution_count": 33,
     "metadata": {},
     "output_type": "execute_result"
    },
    {
     "data": {
      "image/png": "[encoded data removed]",
      "text/plain": [
       "<Figure size 432x288 with 1 Axes>"
      ]
     },
     "metadata": {
      "needs_background": "light"
     },
     "output_type": "display_data"
    }
   ],
   "source": [
    "ax = sns.scatterplot(X, y)\n",
    "ax.set_xlabel(\"Disk IO\")\n",
    "ax.set_ylabel(\"CPU Time\")"
   ]
  },
  {
   "cell_type": "markdown",
   "metadata": {},
   "source": [
    "### Calculate the Pearson Correlation Coefficient\n",
    "> Start by calculating the pearson correlation coefficient $r$."
   ]
  },
  {
   "cell_type": "code",
   "execution_count": 34,
   "metadata": {
    "solution2": "hidden",
    "solution2_first": true
   },
   "outputs": [],
   "source": [
    "def corr(X, y):\n",
    "    Sxy = np.sum((X - np.mean(X))*(y - np.mean(y)))\n",
    "    SxSy = np.sqrt(np.sum((X - np.mean(X))**2)*np.sum((y - np.mean(y))**2))\n",
    "    r = Sxy / SxSy\n",
    "    return r"
   ]
  },
  {
   "cell_type": "code",
   "execution_count": 26,
   "metadata": {
    "solution2": "hidden"
   },
   "outputs": [],
   "source": [
    "def corr(X, y):\n",
    "    Sxy = np.sum((X - np.mean(X)) * (y - np.mean(y)))\n",
    "    SxSy = np.sqrt(np.sum((X - np.mean(X))**2)) * np.sqrt((np.sum(y - np.mean(y))**2))\n",
    "    r = Sxy / SxSy\n",
    "    return r"
   ]
  },
  {
   "cell_type": "code",
   "execution_count": 35,
   "metadata": {},
   "outputs": [
    {
     "data": {
      "text/plain": [
       "0.9856321341091974"
      ]
     },
     "execution_count": 35,
     "metadata": {},
     "output_type": "execute_result"
    }
   ],
   "source": [
    "r = corr(X, y)\n",
    "r"
   ]
  },
  {
   "cell_type": "markdown",
   "metadata": {},
   "source": [
    "The samples almost perfectly lie on a line. We're ready to estimate the model parameters $\\theta_0$ and $\\theta_1$."
   ]
  },
  {
   "cell_type": "markdown",
   "metadata": {},
   "source": [
    "### Estimate model parameters\n",
    "\n",
    "\n",
    "> Implement the `fit` method to estimate the model parameters $\\theta_1$ and $\\theta_2$.\n",
    "\n",
    "\n",
    "$\\theta_1 = \\frac{S_{xy}}{S_{xx}}$\n",
    "\n",
    "$\\theta_0 = \\bar{y} - \\theta_1 \\bar{x}$\n"
   ]
  },
  {
   "cell_type": "code",
   "execution_count": 41,
   "metadata": {
    "solution2": "hidden",
    "solution2_first": true
   },
   "outputs": [],
   "source": [
    "def fit(X, y):\n",
    "    theta1 = (np.sum((X - np.mean(X))*(y - np.mean(y)))) / (np.sum((X - np.mean(X))**2))\n",
    "    theta0 = np.mean(y) - (theta1 * np.mean(X))\n",
    "    return theta0, theta1"
   ]
  },
  {
   "cell_type": "code",
   "execution_count": 39,
   "metadata": {
    "solution2": "hidden"
   },
   "outputs": [],
   "source": [
    "def fit(X, y):\n",
    "    Sxy = np.sum((X - np.mean(X))*(y - np.mean(y)))\n",
    "    Sxx = np.sum((X - np.mean(X))**2)\n",
    "    \n",
    "    theta1 = Sxy / Sxx\n",
    "    theta0 = np.mean(y) - theta1 * np.mean(X)\n",
    "    return theta0, theta1"
   ]
  },
  {
   "cell_type": "code",
   "execution_count": 42,
   "metadata": {},
   "outputs": [
    {
     "name": "stdout",
     "output_type": "stream",
     "text": [
      "Theta 0: -0.008282364933741349\n",
      "Theta 1: 0.24375637104994904\n"
     ]
    }
   ],
   "source": [
    "theta0, theta1 = fit(X, y)\n",
    "print(\"Theta 0:\", theta0)\n",
    "print(\"Theta 1:\", theta1)"
   ]
  },
  {
   "cell_type": "markdown",
   "metadata": {},
   "source": [
    "### Predict function\n",
    "> Now implement the `predict` function which calculates the prediction based on the estimated parameters $\\theta_0$ and $\\theta_1$."
   ]
  },
  {
   "cell_type": "code",
   "execution_count": 43,
   "metadata": {
    "solution2": "hidden",
    "solution2_first": true
   },
   "outputs": [],
   "source": [
    "def predict(X, theta0, theta1):\n",
    "    return (theta0 + (theta1 * X))"
   ]
  },
  {
   "cell_type": "code",
   "execution_count": null,
   "metadata": {
    "solution2": "hidden"
   },
   "outputs": [],
   "source": [
    "def predict(X, theta0, theta1):\n",
    "    y_pred = theta0 + theta1 * X\n",
    "    return y_pred"
   ]
  },
  {
   "cell_type": "code",
   "execution_count": 46,
   "metadata": {},
   "outputs": [
    {
     "name": "stdout",
     "output_type": "stream",
     "text": [
      "[ 2  5  7  9 20 13 10] [ 3.40430683  3.89181957  6.57313965 10.22948522 20.22349643 12.17953619\n",
      "  9.49821611]\n"
     ]
    }
   ],
   "source": [
    "y_pred = predict(X, theta0, theta1)\n",
    "print(y, y_pred)"
   ]
  },
  {
   "cell_type": "markdown",
   "metadata": {},
   "source": [
    "### Plot regression line\n",
    "We can now plot the regression line"
   ]
  },
  {
   "cell_type": "code",
   "execution_count": 47,
   "metadata": {},
   "outputs": [
    {
     "name": "stderr",
     "output_type": "stream",
     "text": [
      "/Users/jabbathegut/.local/share/virtualenvs/HSLU_ML-myLqnJHJ/lib/python3.8/site-packages/seaborn/_decorators.py:36: FutureWarning: Pass the following variables as keyword args: x, y. From version 0.12, the only valid positional argument will be `data`, and passing other arguments without an explicit keyword will result in an error or misinterpretation.\n",
      "  warnings.warn(\n"
     ]
    },
    {
     "data": {
      "image/png": "[encoded data removed]",
      "text/plain": [
       "<Figure size 432x288 with 1 Axes>"
      ]
     },
     "metadata": {
      "needs_background": "light"
     },
     "output_type": "display_data"
    }
   ],
   "source": [
    "def plot_regression_line(X, theta0, theta1, ax=None):\n",
    "    if ax is None:\n",
    "        fig, ax = plt.subplots()\n",
    "    x = np.arange(X.min(), X.max()+0.1, 0.01).reshape(-1,1)\n",
    "    y_pred = predict(x, theta0, theta1)\n",
    "    \n",
    "    ax.plot(x, y_pred, color=\"r\")\n",
    "    \n",
    "ax = sns.scatterplot(X, y)\n",
    "plot_regression_line(X, theta0, theta1, ax)\n",
    "plt.show()"
   ]
  },
  {
   "cell_type": "markdown",
   "metadata": {},
   "source": [
    "### Calculate the $R^2$ score and the $MSE$\n",
    "In case of linear regression, the coefficient of determination $R^2$ is defined as the fraction of explained variance by the model.\n",
    "\n",
    "It is calculated the following way: $R^2 = 1 - \\frac{SSE}{SST}$"
   ]
  },
  {
   "cell_type": "markdown",
   "metadata": {},
   "source": [
    "#### Calculate the Sum of Squared Errors $SSE$"
   ]
  },
  {
   "cell_type": "code",
   "execution_count": 48,
   "metadata": {},
   "outputs": [],
   "source": [
    "def SSE(y, y_pred):\n",
    "    return np.sum((y - y_pred)**2)"
   ]
  },
  {
   "cell_type": "code",
   "execution_count": 49,
   "metadata": {
    "scrolled": false
   },
   "outputs": [
    {
     "data": {
      "text/plain": [
       "5.868883792048929"
      ]
     },
     "execution_count": 49,
     "metadata": {},
     "output_type": "execute_result"
    }
   ],
   "source": [
    "SSE(y, y_pred)"
   ]
  },
  {
   "cell_type": "markdown",
   "metadata": {},
   "source": [
    "#### Calculate the $MSE$\n",
    "> Calculate the $MSE$ using the $SSE$."
   ]
  },
  {
   "cell_type": "code",
   "execution_count": 50,
   "metadata": {
    "solution2": "hidden",
    "solution2_first": true
   },
   "outputs": [],
   "source": [
    "def MSE(y, y_pred):\n",
    "    return SSE(y, y_pred) / (len(y) -2)"
   ]
  },
  {
   "cell_type": "code",
   "execution_count": null,
   "metadata": {
    "solution2": "hidden"
   },
   "outputs": [],
   "source": [
    "def MSE(y, y_pred):\n",
    "    return SSE(y, y_pred) / (len(y) -2)"
   ]
  },
  {
   "cell_type": "code",
   "execution_count": 51,
   "metadata": {},
   "outputs": [
    {
     "data": {
      "text/plain": [
       "1.1737767584097858"
      ]
     },
     "execution_count": 51,
     "metadata": {},
     "output_type": "execute_result"
    }
   ],
   "source": [
    "MSE(y, y_pred)"
   ]
  },
  {
   "cell_type": "markdown",
   "metadata": {},
   "source": [
    "#### Calculate the Total Sum of Squares $TSS$"
   ]
  },
  {
   "cell_type": "code",
   "execution_count": 61,
   "metadata": {
    "solution2": "hidden",
    "solution2_first": true
   },
   "outputs": [],
   "source": [
    "def TSS(y):\n",
    "    return np.sum((y - np.mean(y))**2)"
   ]
  },
  {
   "cell_type": "code",
   "execution_count": 59,
   "metadata": {
    "solution2": "hidden"
   },
   "outputs": [],
   "source": [
    "def SST(y):\n",
    "    return np.sum((y - np.mean(y))**2)"
   ]
  },
  {
   "cell_type": "code",
   "execution_count": 62,
   "metadata": {},
   "outputs": [
    {
     "data": {
      "text/plain": [
       "205.71428571428572"
      ]
     },
     "execution_count": 62,
     "metadata": {},
     "output_type": "execute_result"
    }
   ],
   "source": [
    "TSS(y)"
   ]
  },
  {
   "cell_type": "markdown",
   "metadata": {},
   "source": [
    "#### Calculate the $R^2$ score"
   ]
  },
  {
   "cell_type": "code",
   "execution_count": 65,
   "metadata": {
    "solution2": "hidden",
    "solution2_first": true
   },
   "outputs": [],
   "source": [
    "def r2(y, y_pred):\n",
    "    return (TSS(y) - SSE(y, y_pred)) / TSS(y) "
   ]
  },
  {
   "cell_type": "code",
   "execution_count": null,
   "metadata": {
    "solution2": "hidden"
   },
   "outputs": [],
   "source": [
    "def r2(y, y_pred):\n",
    "    sse = SSE(y, y_pred)\n",
    "    sst = SST(y)\n",
    "    return 1 - sse / sst"
   ]
  },
  {
   "cell_type": "code",
   "execution_count": 66,
   "metadata": {},
   "outputs": [
    {
     "data": {
      "text/plain": [
       "0.971470703788651"
      ]
     },
     "execution_count": 66,
     "metadata": {},
     "output_type": "execute_result"
    }
   ],
   "source": [
    "r2(y, y_pred)"
   ]
  },
  {
   "cell_type": "markdown",
   "metadata": {},
   "source": [
    "#### Using Scikit-Learn\n",
    "Of course in a real project you would never implement these metrices yourself as Scikit-Learn already provides them.\n",
    "\n",
    "*Note*: to compute the $MSE$, Scikit-Learn does not divide the Sum of Squared Errors $SSE$ by $n-2$ degress of freedom but by $n$. With a large dataset this would not make a big difference. However, in our toy example the result is completely different."
   ]
  },
  {
   "cell_type": "code",
   "execution_count": 68,
   "metadata": {},
   "outputs": [
    {
     "name": "stdout",
     "output_type": "stream",
     "text": [
      "R^2:  0.9714707037886511\n",
      "MSE Sklearn:  0.8384119702927041\n"
     ]
    }
   ],
   "source": [
    "R2 = r2_score(y, y_pred)\n",
    "MSE_sklearn = mean_squared_error(y, y_pred)\n",
    "\n",
    "print (\"R^2: \", R2)\n",
    "print (\"MSE Sklearn: \", MSE_sklearn)"
   ]
  },
  {
   "cell_type": "markdown",
   "metadata": {},
   "source": [
    "### Confidence interval for $\\theta_0$ and $\\theta_1$\n",
    "We want to compute the 95% confidence interval for our model parameters $\\theta_0$ and $\\theta_1$. A 95% confidence interval is defined as a range of values such that with 95% probability, the range will contain the true unknown value of the parameter. The range is defined in terms of lower and upper limits computed from the training data."
   ]
  },
  {
   "cell_type": "markdown",
   "metadata": {},
   "source": [
    "#### Standard Deviation\n",
    "In order to calculate the confidence interval for our regression coefficients we first need to calculate the standard deviations."
   ]
  },
  {
   "cell_type": "code",
   "execution_count": 69,
   "metadata": {},
   "outputs": [
    {
     "name": "stdout",
     "output_type": "stream",
     "text": [
      "S_theta0: 0.8311049969529885\n",
      "S_theta1: 0.018681065725824817\n"
     ]
    }
   ],
   "source": [
    "X_mean = np.mean(X)\n",
    "y_pred = predict(X, theta0, theta1)\n",
    "mse = MSE(y, y_pred)\n",
    "\n",
    "# calculate standard deviations\n",
    "n = len(X)\n",
    "S_theta0 = np.sqrt(mse) * np.sqrt((1 / n) + (X_mean ** 2) / (np.sum(X ** 2) - n * X_mean ** 2))\n",
    "S_theta1 = np.sqrt(mse) / np.sqrt(np.sum(X ** 2) - n * X_mean ** 2)\n",
    "\n",
    "print('S_theta0:', S_theta0)\n",
    "print('S_theta1:', S_theta1)"
   ]
  },
  {
   "cell_type": "markdown",
   "metadata": {},
   "source": [
    "#### 90% Confidence Interval\n",
    "To compute the 90% confidence interval we use the $0.95$ quantile of a student-t distribution with $n-2$ degrees of freedom. We could either use a table of the student-t distribution from [wikipedia](https://de.wikipedia.org/wiki/Studentsche_t-Verteilung) or use the interval function from [scipy.stats.t](https://docs.scipy.org/doc/scipy/reference/generated/scipy.stats.t.html)."
   ]
  },
  {
   "cell_type": "markdown",
   "metadata": {},
   "source": [
    "Using scipy, we can calculate the $0.95$ quantile using the `ppf` function."
   ]
  },
  {
   "cell_type": "code",
   "execution_count": 70,
   "metadata": {
    "scrolled": true
   },
   "outputs": [
    {
     "data": {
      "text/plain": [
       "2.015048372669157"
      ]
     },
     "execution_count": 70,
     "metadata": {},
     "output_type": "execute_result"
    }
   ],
   "source": [
    "t.ppf(0.95, n-2)"
   ]
  },
  {
   "cell_type": "markdown",
   "metadata": {},
   "source": [
    "The confidence interval can be calculated using the `t.interval` function which takes as arguments the probability that the value falls within this range, the degrees of freedom, the theta value and the standard deviation."
   ]
  },
  {
   "cell_type": "code",
   "execution_count": 71,
   "metadata": {},
   "outputs": [
    {
     "name": "stdout",
     "output_type": "stream",
     "text": [
      "(-1.6829991365610661, 1.6664344066935828)\n",
      "(0.20611311995940018, 0.2813996221404979)\n"
     ]
    }
   ],
   "source": [
    "alpha = 0.10\n",
    "ts_theta_0 = t.interval(1 - alpha, n - 2, loc=theta0, scale=S_theta0)\n",
    "ts_theta_1 = t.interval(1 - alpha, n - 2, loc=theta1, scale=S_theta1)\n",
    "print(ts_theta_0)\n",
    "print(ts_theta_1)"
   ]
  },
  {
   "cell_type": "markdown",
   "metadata": {},
   "source": [
    "Because zero is contained in the confidence interval, we can conclude that the intercept $\\theta_0$ is not significant!"
   ]
  },
  {
   "cell_type": "markdown",
   "metadata": {},
   "source": [
    "### Outlier\n",
    "We received a new datapoint $(15, 17)$."
   ]
  },
  {
   "cell_type": "code",
   "execution_count": 72,
   "metadata": {},
   "outputs": [
    {
     "name": "stderr",
     "output_type": "stream",
     "text": [
      "/Users/jabbathegut/.local/share/virtualenvs/HSLU_ML-myLqnJHJ/lib/python3.8/site-packages/seaborn/_decorators.py:36: FutureWarning: Pass the following variables as keyword args: x, y. From version 0.12, the only valid positional argument will be `data`, and passing other arguments without an explicit keyword will result in an error or misinterpretation.\n",
      "  warnings.warn(\n"
     ]
    },
    {
     "data": {
      "text/plain": [
       "Text(0, 0.5, 'CPU Time')"
      ]
     },
     "execution_count": 72,
     "metadata": {},
     "output_type": "execute_result"
    },
    {
     "data": {
      "image/png": "[encoded data removed]",
      "text/plain": [
       "<Figure size 432x288 with 1 Axes>"
      ]
     },
     "metadata": {
      "needs_background": "light"
     },
     "output_type": "display_data"
    }
   ],
   "source": [
    "X = np.array([14, 16, 27, 42, 83, 50, 39, 15])\n",
    "y = np.array([2, 5, 7, 9, 20, 13, 10, 17])\n",
    "\n",
    "ax = sns.scatterplot(X, y)\n",
    "ax.plot(15, 17)\n",
    "ax.set_xlabel(\"Disk IO\")\n",
    "ax.set_ylabel(\"CPU Time\")"
   ]
  },
  {
   "cell_type": "markdown",
   "metadata": {},
   "source": [
    "> Recalculate the model parameters and plot the new regression line."
   ]
  },
  {
   "cell_type": "code",
   "execution_count": 73,
   "metadata": {},
   "outputs": [
    {
     "name": "stdout",
     "output_type": "stream",
     "text": [
      "Theta 0: 4.2296718972895855\n",
      "Theta 1: 0.1718972895863053\n"
     ]
    },
    {
     "name": "stderr",
     "output_type": "stream",
     "text": [
      "/Users/jabbathegut/.local/share/virtualenvs/HSLU_ML-myLqnJHJ/lib/python3.8/site-packages/seaborn/_decorators.py:36: FutureWarning: Pass the following variables as keyword args: x, y. From version 0.12, the only valid positional argument will be `data`, and passing other arguments without an explicit keyword will result in an error or misinterpretation.\n",
      "  warnings.warn(\n"
     ]
    },
    {
     "data": {
      "image/png": "[encoded data removed]",
      "text/plain": [
       "<Figure size 432x288 with 1 Axes>"
      ]
     },
     "metadata": {
      "needs_background": "light"
     },
     "output_type": "display_data"
    }
   ],
   "source": [
    "# Recalculate the model parameters and plot the new regression line.\n",
    "theta0, theta1 = fit(X, y)\n",
    "print(\"Theta 0:\", theta0)\n",
    "print(\"Theta 1:\", theta1)\n",
    "\n",
    "ax = sns.scatterplot(X, y)\n",
    "plot_regression_line(X, theta0, theta1, ax)\n",
    "plt.show()\n"
   ]
  },
  {
   "cell_type": "markdown",
   "metadata": {},
   "source": [
    "## Part 2 - Skin Cancer Mortality vs. State Latitude\n",
    "Let's consider the Skin cancer example from the slides. Your goal is to predict the amount of skin cancer mortality given the latitude."
   ]
  },
  {
   "cell_type": "code",
   "execution_count": 74,
   "metadata": {},
   "outputs": [
    {
     "data": {
      "text/html": [
       "<div>\n",
       "<style scoped>\n",
       "    .dataframe tbody tr th:only-of-type {\n",
       "        vertical-align: middle;\n",
       "    }\n",
       "\n",
       "    .dataframe tbody tr th {\n",
       "        vertical-align: top;\n",
       "    }\n",
       "\n",
       "    .dataframe thead th {\n",
       "        text-align: right;\n",
       "    }\n",
       "</style>\n",
       "<table border=\"1\" class=\"dataframe\">\n",
       "  <thead>\n",
       "    <tr style=\"text-align: right;\">\n",
       "      <th></th>\n",
       "      <th>State</th>\n",
       "      <th>Lat</th>\n",
       "      <th>Mort</th>\n",
       "      <th>Ocean</th>\n",
       "      <th>Long</th>\n",
       "    </tr>\n",
       "  </thead>\n",
       "  <tbody>\n",
       "    <tr>\n",
       "      <th>0</th>\n",
       "      <td>Alabama</td>\n",
       "      <td>33.0</td>\n",
       "      <td>219</td>\n",
       "      <td>1</td>\n",
       "      <td>87.0</td>\n",
       "    </tr>\n",
       "    <tr>\n",
       "      <th>1</th>\n",
       "      <td>Arizona</td>\n",
       "      <td>34.5</td>\n",
       "      <td>160</td>\n",
       "      <td>0</td>\n",
       "      <td>112.0</td>\n",
       "    </tr>\n",
       "    <tr>\n",
       "      <th>2</th>\n",
       "      <td>Arkansas</td>\n",
       "      <td>35.0</td>\n",
       "      <td>170</td>\n",
       "      <td>0</td>\n",
       "      <td>92.5</td>\n",
       "    </tr>\n",
       "    <tr>\n",
       "      <th>3</th>\n",
       "      <td>California</td>\n",
       "      <td>37.5</td>\n",
       "      <td>182</td>\n",
       "      <td>1</td>\n",
       "      <td>119.5</td>\n",
       "    </tr>\n",
       "    <tr>\n",
       "      <th>4</th>\n",
       "      <td>Colorado</td>\n",
       "      <td>39.0</td>\n",
       "      <td>149</td>\n",
       "      <td>0</td>\n",
       "      <td>105.5</td>\n",
       "    </tr>\n",
       "  </tbody>\n",
       "</table>\n",
       "</div>"
      ],
      "text/plain": [
       "        State   Lat  Mort  Ocean   Long\n",
       "0     Alabama  33.0   219      1   87.0\n",
       "1     Arizona  34.5   160      0  112.0\n",
       "2    Arkansas  35.0   170      0   92.5\n",
       "3  California  37.5   182      1  119.5\n",
       "4    Colorado  39.0   149      0  105.5"
      ]
     },
     "execution_count": 74,
     "metadata": {},
     "output_type": "execute_result"
    }
   ],
   "source": [
    "df = pd.read_csv(\"SkinCancerMortalityUSA1950.csv\", sep=\";\")\n",
    "df.head()"
   ]
  },
  {
   "cell_type": "markdown",
   "metadata": {},
   "source": [
    "> Split the dataset into features and target"
   ]
  },
  {
   "cell_type": "code",
   "execution_count": 92,
   "metadata": {
    "solution2": "hidden",
    "solution2_first": true
   },
   "outputs": [
    {
     "data": {
      "text/plain": [
       "(49, 1)"
      ]
     },
     "execution_count": 92,
     "metadata": {},
     "output_type": "execute_result"
    }
   ],
   "source": [
    "X = df[[\"Lat\"]].values\n",
    "y = df[[\"Mort\"]].values\n",
    "X.shape"
   ]
  },
  {
   "cell_type": "code",
   "execution_count": null,
   "metadata": {
    "solution2": "hidden"
   },
   "outputs": [],
   "source": [
    "X = df[[\"Lat\"]].values\n",
    "y = df[[\"Mort\"]].values"
   ]
  },
  {
   "cell_type": "markdown",
   "metadata": {},
   "source": [
    "> Fit a linear regression model to the data. This time use the [LinearRegression](https://scikit-learn.org/stable/modules/generated/sklearn.linear_model.LinearRegression.html) implementation from Scikit-Learn."
   ]
  },
  {
   "cell_type": "code",
   "execution_count": 99,
   "metadata": {
    "solution2": "hidden",
    "solution2_first": true
   },
   "outputs": [
    {
     "data": {
      "text/plain": [
       "0.6798295922599593"
      ]
     },
     "execution_count": 99,
     "metadata": {},
     "output_type": "execute_result"
    }
   ],
   "source": [
    "model = LinearRegression().fit(X, y)\n",
    "model.score(X, y)"
   ]
  },
  {
   "cell_type": "code",
   "execution_count": null,
   "metadata": {
    "solution2": "hidden"
   },
   "outputs": [],
   "source": [
    "model = LinearRegression()\n",
    "model.fit(X, y)"
   ]
  },
  {
   "cell_type": "markdown",
   "metadata": {},
   "source": [
    "> Calculate the $R^2$ score using our implementation"
   ]
  },
  {
   "cell_type": "code",
   "execution_count": 98,
   "metadata": {
    "solution2": "hidden",
    "solution2_first": true
   },
   "outputs": [
    {
     "data": {
      "text/plain": [
       "0.6798295922599593"
      ]
     },
     "execution_count": 98,
     "metadata": {},
     "output_type": "execute_result"
    }
   ],
   "source": [
    "y_pred = model.predict(X)\n",
    "R2 = r2(y, y_pred)\n",
    "R2"
   ]
  },
  {
   "cell_type": "code",
   "execution_count": null,
   "metadata": {
    "solution2": "hidden"
   },
   "outputs": [],
   "source": [
    "y_pred = model.predict(X)\n",
    "R2 = r2(y, y_pred)\n",
    "R2"
   ]
  },
  {
   "cell_type": "markdown",
   "metadata": {},
   "source": [
    "> Now use the Longitude instead of the Latitude feature. What $R^2$ score do you achieve? Answer the question on ILIAS."
   ]
  },
  {
   "cell_type": "code",
   "execution_count": 100,
   "metadata": {},
   "outputs": [
    {
     "data": {
      "text/plain": [
       "0.021370967192338577"
      ]
     },
     "execution_count": 100,
     "metadata": {},
     "output_type": "execute_result"
    }
   ],
   "source": [
    "# Now use the Longitude instead of the Latitude feature\n",
    "X = df[[\"Long\"]].values\n",
    "y = df[[\"Mort\"]].values\n",
    "\n",
    "model2 = LinearRegression().fit(X, y)\n",
    "y_pred = model2.predict(X)\n",
    "r2(y, y_pred)"
   ]
  },
  {
   "cell_type": "markdown",
   "metadata": {},
   "source": [
    "## Part 3 - Simple Linear Regression using  the AutoScout Dataset\n",
    "We move now to a much bigger dataset, the AutoScout 24 dataset."
   ]
  },
  {
   "cell_type": "markdown",
   "metadata": {},
   "source": [
    "### Data Quality Assessment\n",
    "Here is the the dataset from Autoscout24. We reuse the steps that we developed in the regression exercise to read and clean the data:"
   ]
  },
  {
   "cell_type": "code",
   "execution_count": 101,
   "metadata": {
    "scrolled": true
   },
   "outputs": [
    {
     "data": {
      "text/html": [
       "<div>\n",
       "<style scoped>\n",
       "    .dataframe tbody tr th:only-of-type {\n",
       "        vertical-align: middle;\n",
       "    }\n",
       "\n",
       "    .dataframe tbody tr th {\n",
       "        vertical-align: top;\n",
       "    }\n",
       "\n",
       "    .dataframe thead th {\n",
       "        text-align: right;\n",
       "    }\n",
       "</style>\n",
       "<table border=\"1\" class=\"dataframe\">\n",
       "  <thead>\n",
       "    <tr style=\"text-align: right;\">\n",
       "      <th></th>\n",
       "      <th>Price</th>\n",
       "      <th>Mileage</th>\n",
       "      <th>Color</th>\n",
       "      <th>Doors</th>\n",
       "      <th>Horsepower</th>\n",
       "      <th>EngineSize</th>\n",
       "      <th>Seats</th>\n",
       "      <th>Cylinders</th>\n",
       "      <th>Gears</th>\n",
       "      <th>Year</th>\n",
       "    </tr>\n",
       "  </thead>\n",
       "  <tbody>\n",
       "    <tr>\n",
       "      <th>0</th>\n",
       "      <td>44800</td>\n",
       "      <td>27600</td>\n",
       "      <td>anthrazit</td>\n",
       "      <td>2</td>\n",
       "      <td>320</td>\n",
       "      <td>4973</td>\n",
       "      <td>2</td>\n",
       "      <td>8</td>\n",
       "      <td>5</td>\n",
       "      <td>1996</td>\n",
       "    </tr>\n",
       "    <tr>\n",
       "      <th>1</th>\n",
       "      <td>22800</td>\n",
       "      <td>18300</td>\n",
       "      <td>anthrazit</td>\n",
       "      <td>4</td>\n",
       "      <td>286</td>\n",
       "      <td>4398</td>\n",
       "      <td>5</td>\n",
       "      <td>8</td>\n",
       "      <td>5</td>\n",
       "      <td>1999</td>\n",
       "    </tr>\n",
       "    <tr>\n",
       "      <th>2</th>\n",
       "      <td>183710</td>\n",
       "      <td>650</td>\n",
       "      <td>anthrazit</td>\n",
       "      <td>5</td>\n",
       "      <td>350</td>\n",
       "      <td>4172</td>\n",
       "      <td>5</td>\n",
       "      <td>8</td>\n",
       "      <td>6</td>\n",
       "      <td>2008</td>\n",
       "    </tr>\n",
       "    <tr>\n",
       "      <th>3</th>\n",
       "      <td>19900</td>\n",
       "      <td>32000</td>\n",
       "      <td>anthrazit</td>\n",
       "      <td>5</td>\n",
       "      <td>150</td>\n",
       "      <td>2198</td>\n",
       "      <td>7</td>\n",
       "      <td>4</td>\n",
       "      <td>6</td>\n",
       "      <td>2006</td>\n",
       "    </tr>\n",
       "    <tr>\n",
       "      <th>4</th>\n",
       "      <td>18999</td>\n",
       "      <td>118000</td>\n",
       "      <td>anthrazit</td>\n",
       "      <td>5</td>\n",
       "      <td>163</td>\n",
       "      <td>2401</td>\n",
       "      <td>5</td>\n",
       "      <td>5</td>\n",
       "      <td>5</td>\n",
       "      <td>2003</td>\n",
       "    </tr>\n",
       "  </tbody>\n",
       "</table>\n",
       "</div>"
      ],
      "text/plain": [
       "    Price  Mileage      Color  Doors  Horsepower  EngineSize  Seats  \\\n",
       "0   44800    27600  anthrazit      2         320        4973      2   \n",
       "1   22800    18300  anthrazit      4         286        4398      5   \n",
       "2  183710      650  anthrazit      5         350        4172      5   \n",
       "3   19900    32000  anthrazit      5         150        2198      7   \n",
       "4   18999   118000  anthrazit      5         163        2401      5   \n",
       "\n",
       "   Cylinders  Gears  Year  \n",
       "0          8      5  1996  \n",
       "1          8      5  1999  \n",
       "2          8      6  2008  \n",
       "3          4      6  2006  \n",
       "4          5      5  2003  "
      ]
     },
     "execution_count": 101,
     "metadata": {},
     "output_type": "execute_result"
    }
   ],
   "source": [
    "df = pd.read_csv('cars.csv')\n",
    "df.drop(['Name', 'Registration'], axis='columns', inplace=True)\n",
    "df.drop([17010, 7734, 47002, 44369, 24720, 50574, 36542, 42611,\n",
    "         22513, 12773, 21501, 2424, 52910, 29735, 43004, 47125], axis='rows', inplace=True)\n",
    "df.drop(df.index[df.EngineSize > 7500], axis='rows', inplace=True)\n",
    "df.drop_duplicates(inplace=True)\n",
    "df.head()"
   ]
  },
  {
   "cell_type": "markdown",
   "metadata": {},
   "source": [
    "#### Handle categorical variables\n",
    "As color is a categorical variable, we need to one-hot encode it."
   ]
  },
  {
   "cell_type": "code",
   "execution_count": 102,
   "metadata": {
    "scrolled": false
   },
   "outputs": [
    {
     "data": {
      "text/html": [
       "<div>\n",
       "<style scoped>\n",
       "    .dataframe tbody tr th:only-of-type {\n",
       "        vertical-align: middle;\n",
       "    }\n",
       "\n",
       "    .dataframe tbody tr th {\n",
       "        vertical-align: top;\n",
       "    }\n",
       "\n",
       "    .dataframe thead th {\n",
       "        text-align: right;\n",
       "    }\n",
       "</style>\n",
       "<table border=\"1\" class=\"dataframe\">\n",
       "  <thead>\n",
       "    <tr style=\"text-align: right;\">\n",
       "      <th></th>\n",
       "      <th>Price</th>\n",
       "      <th>Mileage</th>\n",
       "      <th>Doors</th>\n",
       "      <th>Horsepower</th>\n",
       "      <th>EngineSize</th>\n",
       "      <th>Seats</th>\n",
       "      <th>Cylinders</th>\n",
       "      <th>Gears</th>\n",
       "      <th>Year</th>\n",
       "      <th>Color_anthrazit</th>\n",
       "      <th>...</th>\n",
       "      <th>Color_grau</th>\n",
       "      <th>Color_grün</th>\n",
       "      <th>Color_orange</th>\n",
       "      <th>Color_pink</th>\n",
       "      <th>Color_rot</th>\n",
       "      <th>Color_schwarz</th>\n",
       "      <th>Color_silber</th>\n",
       "      <th>Color_türkis</th>\n",
       "      <th>Color_violett</th>\n",
       "      <th>Color_weiss</th>\n",
       "    </tr>\n",
       "  </thead>\n",
       "  <tbody>\n",
       "    <tr>\n",
       "      <th>0</th>\n",
       "      <td>44800</td>\n",
       "      <td>27600</td>\n",
       "      <td>2</td>\n",
       "      <td>320</td>\n",
       "      <td>4973</td>\n",
       "      <td>2</td>\n",
       "      <td>8</td>\n",
       "      <td>5</td>\n",
       "      <td>1996</td>\n",
       "      <td>1</td>\n",
       "      <td>...</td>\n",
       "      <td>0</td>\n",
       "      <td>0</td>\n",
       "      <td>0</td>\n",
       "      <td>0</td>\n",
       "      <td>0</td>\n",
       "      <td>0</td>\n",
       "      <td>0</td>\n",
       "      <td>0</td>\n",
       "      <td>0</td>\n",
       "      <td>0</td>\n",
       "    </tr>\n",
       "    <tr>\n",
       "      <th>1</th>\n",
       "      <td>22800</td>\n",
       "      <td>18300</td>\n",
       "      <td>4</td>\n",
       "      <td>286</td>\n",
       "      <td>4398</td>\n",
       "      <td>5</td>\n",
       "      <td>8</td>\n",
       "      <td>5</td>\n",
       "      <td>1999</td>\n",
       "      <td>1</td>\n",
       "      <td>...</td>\n",
       "      <td>0</td>\n",
       "      <td>0</td>\n",
       "      <td>0</td>\n",
       "      <td>0</td>\n",
       "      <td>0</td>\n",
       "      <td>0</td>\n",
       "      <td>0</td>\n",
       "      <td>0</td>\n",
       "      <td>0</td>\n",
       "      <td>0</td>\n",
       "    </tr>\n",
       "    <tr>\n",
       "      <th>2</th>\n",
       "      <td>183710</td>\n",
       "      <td>650</td>\n",
       "      <td>5</td>\n",
       "      <td>350</td>\n",
       "      <td>4172</td>\n",
       "      <td>5</td>\n",
       "      <td>8</td>\n",
       "      <td>6</td>\n",
       "      <td>2008</td>\n",
       "      <td>1</td>\n",
       "      <td>...</td>\n",
       "      <td>0</td>\n",
       "      <td>0</td>\n",
       "      <td>0</td>\n",
       "      <td>0</td>\n",
       "      <td>0</td>\n",
       "      <td>0</td>\n",
       "      <td>0</td>\n",
       "      <td>0</td>\n",
       "      <td>0</td>\n",
       "      <td>0</td>\n",
       "    </tr>\n",
       "    <tr>\n",
       "      <th>3</th>\n",
       "      <td>19900</td>\n",
       "      <td>32000</td>\n",
       "      <td>5</td>\n",
       "      <td>150</td>\n",
       "      <td>2198</td>\n",
       "      <td>7</td>\n",
       "      <td>4</td>\n",
       "      <td>6</td>\n",
       "      <td>2006</td>\n",
       "      <td>1</td>\n",
       "      <td>...</td>\n",
       "      <td>0</td>\n",
       "      <td>0</td>\n",
       "      <td>0</td>\n",
       "      <td>0</td>\n",
       "      <td>0</td>\n",
       "      <td>0</td>\n",
       "      <td>0</td>\n",
       "      <td>0</td>\n",
       "      <td>0</td>\n",
       "      <td>0</td>\n",
       "    </tr>\n",
       "    <tr>\n",
       "      <th>4</th>\n",
       "      <td>18999</td>\n",
       "      <td>118000</td>\n",
       "      <td>5</td>\n",
       "      <td>163</td>\n",
       "      <td>2401</td>\n",
       "      <td>5</td>\n",
       "      <td>5</td>\n",
       "      <td>5</td>\n",
       "      <td>2003</td>\n",
       "      <td>1</td>\n",
       "      <td>...</td>\n",
       "      <td>0</td>\n",
       "      <td>0</td>\n",
       "      <td>0</td>\n",
       "      <td>0</td>\n",
       "      <td>0</td>\n",
       "      <td>0</td>\n",
       "      <td>0</td>\n",
       "      <td>0</td>\n",
       "      <td>0</td>\n",
       "      <td>0</td>\n",
       "    </tr>\n",
       "  </tbody>\n",
       "</table>\n",
       "<p>5 rows × 26 columns</p>\n",
       "</div>"
      ],
      "text/plain": [
       "    Price  Mileage  Doors  Horsepower  EngineSize  Seats  Cylinders  Gears  \\\n",
       "0   44800    27600      2         320        4973      2          8      5   \n",
       "1   22800    18300      4         286        4398      5          8      5   \n",
       "2  183710      650      5         350        4172      5          8      6   \n",
       "3   19900    32000      5         150        2198      7          4      6   \n",
       "4   18999   118000      5         163        2401      5          5      5   \n",
       "\n",
       "   Year  Color_anthrazit  ...  Color_grau  Color_grün  Color_orange  \\\n",
       "0  1996                1  ...           0           0             0   \n",
       "1  1999                1  ...           0           0             0   \n",
       "2  2008                1  ...           0           0             0   \n",
       "3  2006                1  ...           0           0             0   \n",
       "4  2003                1  ...           0           0             0   \n",
       "\n",
       "   Color_pink  Color_rot  Color_schwarz  Color_silber  Color_türkis  \\\n",
       "0           0          0              0             0             0   \n",
       "1           0          0              0             0             0   \n",
       "2           0          0              0             0             0   \n",
       "3           0          0              0             0             0   \n",
       "4           0          0              0             0             0   \n",
       "\n",
       "   Color_violett  Color_weiss  \n",
       "0              0            0  \n",
       "1              0            0  \n",
       "2              0            0  \n",
       "3              0            0  \n",
       "4              0            0  \n",
       "\n",
       "[5 rows x 26 columns]"
      ]
     },
     "execution_count": 102,
     "metadata": {},
     "output_type": "execute_result"
    }
   ],
   "source": [
    "df = pd.get_dummies(df)\n",
    "df.head()"
   ]
  },
  {
   "cell_type": "markdown",
   "metadata": {},
   "source": [
    "#### Split into train and test"
   ]
  },
  {
   "cell_type": "code",
   "execution_count": 103,
   "metadata": {},
   "outputs": [],
   "source": [
    "train, test = train_test_split(df, test_size=0.2, random_state=42)"
   ]
  },
  {
   "cell_type": "markdown",
   "metadata": {},
   "source": [
    "#### Handle outliers"
   ]
  },
  {
   "cell_type": "markdown",
   "metadata": {},
   "source": [
    "Outliers are in particular critical for linear models. Therefore, we remove all rows corresponding to outliers of the dependent variable and to outliers of all independent variables, which strongly correlate with the dependent variable. Note that you should determine all outliers on the same dataset, i.e. do not determine outliers for a certain variable on a dataset, where you have already removed outliers corresponding to other variables. \n"
   ]
  },
  {
   "cell_type": "code",
   "execution_count": 104,
   "metadata": {
    "scrolled": false
   },
   "outputs": [
    {
     "data": {
      "text/plain": [
       "Price            AxesSubplot(0.125,0.536818;0.352273x0.343182)\n",
       "Mileage       AxesSubplot(0.547727,0.536818;0.352273x0.343182)\n",
       "Horsepower          AxesSubplot(0.125,0.125;0.352273x0.343182)\n",
       "EngineSize       AxesSubplot(0.547727,0.125;0.352273x0.343182)\n",
       "dtype: object"
      ]
     },
     "execution_count": 104,
     "metadata": {},
     "output_type": "execute_result"
    },
    {
     "data": {
      "image/png": "[encoded data removed]",
      "text/plain": [
       "<Figure size 720x720 with 4 Axes>"
      ]
     },
     "metadata": {
      "needs_background": "light"
     },
     "output_type": "display_data"
    }
   ],
   "source": [
    "numerical_cols = ['Price', 'Mileage', 'Horsepower', 'EngineSize']\n",
    "df.loc[:, numerical_cols].plot(kind='box', subplots=True, layout=(2, 2), figsize=(10, 10), sharex=False)"
   ]
  },
  {
   "cell_type": "markdown",
   "metadata": {},
   "source": [
    "With the following code we calculate an upper bound. This must be calculated **only on the training set**, not on the complete dataset. In a dataset where there are outliers above as well as below the two quartiles, the lower bound would have to be calculated accordingly"
   ]
  },
  {
   "cell_type": "code",
   "execution_count": 105,
   "metadata": {},
   "outputs": [
    {
     "data": {
      "text/plain": [
       "Price          73884.375\n",
       "Mileage       222750.000\n",
       "Horsepower       332.000\n",
       "EngineSize      3470.000\n",
       "dtype: float64"
      ]
     },
     "execution_count": 105,
     "metadata": {},
     "output_type": "execute_result"
    }
   ],
   "source": [
    "q3 = train.loc[:, numerical_cols].describe().loc['75%']\n",
    "iqr = q3 - df.loc[:, numerical_cols].describe().loc['25%']\n",
    "upper_boundary = q3 + 1.5*iqr\n",
    "upper_boundary"
   ]
  },
  {
   "cell_type": "markdown",
   "metadata": {},
   "source": [
    "With the calculated upper bound we then remove the outliers."
   ]
  },
  {
   "cell_type": "code",
   "execution_count": 106,
   "metadata": {},
   "outputs": [],
   "source": [
    "# And here the outliers are removed\n",
    "train = train[(train.Price <= upper_boundary.Price) &\n",
    "        (train.Mileage <= upper_boundary.Mileage) &\n",
    "        (train.Horsepower <= upper_boundary.Horsepower) &\n",
    "        (train.EngineSize <= upper_boundary.EngineSize)]\n",
    "\n",
    "test = test[(test.Price <= upper_boundary.Price) &\n",
    "        (test.Mileage <= upper_boundary.Mileage) &\n",
    "        (test.Horsepower <= upper_boundary.Horsepower) &\n",
    "        (test.EngineSize <= upper_boundary.EngineSize)]"
   ]
  },
  {
   "cell_type": "markdown",
   "metadata": {},
   "source": [
    "#### Check the correlations\n",
    "Next, we check the correlations between the variables"
   ]
  },
  {
   "cell_type": "code",
   "execution_count": 107,
   "metadata": {},
   "outputs": [
    {
     "data": {
      "text/html": [
       "<div>\n",
       "<style scoped>\n",
       "    .dataframe tbody tr th:only-of-type {\n",
       "        vertical-align: middle;\n",
       "    }\n",
       "\n",
       "    .dataframe tbody tr th {\n",
       "        vertical-align: top;\n",
       "    }\n",
       "\n",
       "    .dataframe thead th {\n",
       "        text-align: right;\n",
       "    }\n",
       "</style>\n",
       "<table border=\"1\" class=\"dataframe\">\n",
       "  <thead>\n",
       "    <tr style=\"text-align: right;\">\n",
       "      <th></th>\n",
       "      <th>Price</th>\n",
       "      <th>Mileage</th>\n",
       "      <th>Doors</th>\n",
       "      <th>Horsepower</th>\n",
       "      <th>EngineSize</th>\n",
       "      <th>Seats</th>\n",
       "      <th>Cylinders</th>\n",
       "      <th>Gears</th>\n",
       "      <th>Year</th>\n",
       "      <th>Color_anthrazit</th>\n",
       "      <th>...</th>\n",
       "      <th>Color_grau</th>\n",
       "      <th>Color_grün</th>\n",
       "      <th>Color_orange</th>\n",
       "      <th>Color_pink</th>\n",
       "      <th>Color_rot</th>\n",
       "      <th>Color_schwarz</th>\n",
       "      <th>Color_silber</th>\n",
       "      <th>Color_türkis</th>\n",
       "      <th>Color_violett</th>\n",
       "      <th>Color_weiss</th>\n",
       "    </tr>\n",
       "  </thead>\n",
       "  <tbody>\n",
       "    <tr>\n",
       "      <th>0</th>\n",
       "      <td>44800</td>\n",
       "      <td>27600</td>\n",
       "      <td>2</td>\n",
       "      <td>320</td>\n",
       "      <td>4973</td>\n",
       "      <td>2</td>\n",
       "      <td>8</td>\n",
       "      <td>5</td>\n",
       "      <td>1996</td>\n",
       "      <td>1</td>\n",
       "      <td>...</td>\n",
       "      <td>0</td>\n",
       "      <td>0</td>\n",
       "      <td>0</td>\n",
       "      <td>0</td>\n",
       "      <td>0</td>\n",
       "      <td>0</td>\n",
       "      <td>0</td>\n",
       "      <td>0</td>\n",
       "      <td>0</td>\n",
       "      <td>0</td>\n",
       "    </tr>\n",
       "    <tr>\n",
       "      <th>1</th>\n",
       "      <td>22800</td>\n",
       "      <td>18300</td>\n",
       "      <td>4</td>\n",
       "      <td>286</td>\n",
       "      <td>4398</td>\n",
       "      <td>5</td>\n",
       "      <td>8</td>\n",
       "      <td>5</td>\n",
       "      <td>1999</td>\n",
       "      <td>1</td>\n",
       "      <td>...</td>\n",
       "      <td>0</td>\n",
       "      <td>0</td>\n",
       "      <td>0</td>\n",
       "      <td>0</td>\n",
       "      <td>0</td>\n",
       "      <td>0</td>\n",
       "      <td>0</td>\n",
       "      <td>0</td>\n",
       "      <td>0</td>\n",
       "      <td>0</td>\n",
       "    </tr>\n",
       "    <tr>\n",
       "      <th>2</th>\n",
       "      <td>183710</td>\n",
       "      <td>650</td>\n",
       "      <td>5</td>\n",
       "      <td>350</td>\n",
       "      <td>4172</td>\n",
       "      <td>5</td>\n",
       "      <td>8</td>\n",
       "      <td>6</td>\n",
       "      <td>2008</td>\n",
       "      <td>1</td>\n",
       "      <td>...</td>\n",
       "      <td>0</td>\n",
       "      <td>0</td>\n",
       "      <td>0</td>\n",
       "      <td>0</td>\n",
       "      <td>0</td>\n",
       "      <td>0</td>\n",
       "      <td>0</td>\n",
       "      <td>0</td>\n",
       "      <td>0</td>\n",
       "      <td>0</td>\n",
       "    </tr>\n",
       "    <tr>\n",
       "      <th>3</th>\n",
       "      <td>19900</td>\n",
       "      <td>32000</td>\n",
       "      <td>5</td>\n",
       "      <td>150</td>\n",
       "      <td>2198</td>\n",
       "      <td>7</td>\n",
       "      <td>4</td>\n",
       "      <td>6</td>\n",
       "      <td>2006</td>\n",
       "      <td>1</td>\n",
       "      <td>...</td>\n",
       "      <td>0</td>\n",
       "      <td>0</td>\n",
       "      <td>0</td>\n",
       "      <td>0</td>\n",
       "      <td>0</td>\n",
       "      <td>0</td>\n",
       "      <td>0</td>\n",
       "      <td>0</td>\n",
       "      <td>0</td>\n",
       "      <td>0</td>\n",
       "    </tr>\n",
       "    <tr>\n",
       "      <th>4</th>\n",
       "      <td>18999</td>\n",
       "      <td>118000</td>\n",
       "      <td>5</td>\n",
       "      <td>163</td>\n",
       "      <td>2401</td>\n",
       "      <td>5</td>\n",
       "      <td>5</td>\n",
       "      <td>5</td>\n",
       "      <td>2003</td>\n",
       "      <td>1</td>\n",
       "      <td>...</td>\n",
       "      <td>0</td>\n",
       "      <td>0</td>\n",
       "      <td>0</td>\n",
       "      <td>0</td>\n",
       "      <td>0</td>\n",
       "      <td>0</td>\n",
       "      <td>0</td>\n",
       "      <td>0</td>\n",
       "      <td>0</td>\n",
       "      <td>0</td>\n",
       "    </tr>\n",
       "  </tbody>\n",
       "</table>\n",
       "<p>5 rows × 26 columns</p>\n",
       "</div>"
      ],
      "text/plain": [
       "    Price  Mileage  Doors  Horsepower  EngineSize  Seats  Cylinders  Gears  \\\n",
       "0   44800    27600      2         320        4973      2          8      5   \n",
       "1   22800    18300      4         286        4398      5          8      5   \n",
       "2  183710      650      5         350        4172      5          8      6   \n",
       "3   19900    32000      5         150        2198      7          4      6   \n",
       "4   18999   118000      5         163        2401      5          5      5   \n",
       "\n",
       "   Year  Color_anthrazit  ...  Color_grau  Color_grün  Color_orange  \\\n",
       "0  1996                1  ...           0           0             0   \n",
       "1  1999                1  ...           0           0             0   \n",
       "2  2008                1  ...           0           0             0   \n",
       "3  2006                1  ...           0           0             0   \n",
       "4  2003                1  ...           0           0             0   \n",
       "\n",
       "   Color_pink  Color_rot  Color_schwarz  Color_silber  Color_türkis  \\\n",
       "0           0          0              0             0             0   \n",
       "1           0          0              0             0             0   \n",
       "2           0          0              0             0             0   \n",
       "3           0          0              0             0             0   \n",
       "4           0          0              0             0             0   \n",
       "\n",
       "   Color_violett  Color_weiss  \n",
       "0              0            0  \n",
       "1              0            0  \n",
       "2              0            0  \n",
       "3              0            0  \n",
       "4              0            0  \n",
       "\n",
       "[5 rows x 26 columns]"
      ]
     },
     "execution_count": 107,
     "metadata": {},
     "output_type": "execute_result"
    }
   ],
   "source": [
    "df.head()"
   ]
  },
  {
   "cell_type": "code",
   "execution_count": 108,
   "metadata": {},
   "outputs": [
    {
     "data": {
      "text/html": [
       "<div>\n",
       "<style scoped>\n",
       "    .dataframe tbody tr th:only-of-type {\n",
       "        vertical-align: middle;\n",
       "    }\n",
       "\n",
       "    .dataframe tbody tr th {\n",
       "        vertical-align: top;\n",
       "    }\n",
       "\n",
       "    .dataframe thead th {\n",
       "        text-align: right;\n",
       "    }\n",
       "</style>\n",
       "<table border=\"1\" class=\"dataframe\">\n",
       "  <thead>\n",
       "    <tr style=\"text-align: right;\">\n",
       "      <th></th>\n",
       "      <th>Price</th>\n",
       "      <th>Mileage</th>\n",
       "      <th>Horsepower</th>\n",
       "      <th>EngineSize</th>\n",
       "      <th>Seats</th>\n",
       "      <th>Cylinders</th>\n",
       "      <th>Gears</th>\n",
       "      <th>Year</th>\n",
       "    </tr>\n",
       "  </thead>\n",
       "  <tbody>\n",
       "    <tr>\n",
       "      <th>Price</th>\n",
       "      <td>1.000000</td>\n",
       "      <td>-0.614035</td>\n",
       "      <td>0.516171</td>\n",
       "      <td>0.286597</td>\n",
       "      <td>0.071034</td>\n",
       "      <td>0.170101</td>\n",
       "      <td>0.585866</td>\n",
       "      <td>0.635632</td>\n",
       "    </tr>\n",
       "    <tr>\n",
       "      <th>Mileage</th>\n",
       "      <td>-0.614035</td>\n",
       "      <td>1.000000</td>\n",
       "      <td>0.045645</td>\n",
       "      <td>0.281828</td>\n",
       "      <td>0.032866</td>\n",
       "      <td>0.250388</td>\n",
       "      <td>-0.315554</td>\n",
       "      <td>-0.842329</td>\n",
       "    </tr>\n",
       "    <tr>\n",
       "      <th>Horsepower</th>\n",
       "      <td>0.516171</td>\n",
       "      <td>0.045645</td>\n",
       "      <td>1.000000</td>\n",
       "      <td>0.801584</td>\n",
       "      <td>0.054728</td>\n",
       "      <td>0.637440</td>\n",
       "      <td>0.377716</td>\n",
       "      <td>-0.007443</td>\n",
       "    </tr>\n",
       "    <tr>\n",
       "      <th>EngineSize</th>\n",
       "      <td>0.286597</td>\n",
       "      <td>0.281828</td>\n",
       "      <td>0.801584</td>\n",
       "      <td>1.000000</td>\n",
       "      <td>0.155374</td>\n",
       "      <td>0.794124</td>\n",
       "      <td>0.174822</td>\n",
       "      <td>-0.252623</td>\n",
       "    </tr>\n",
       "    <tr>\n",
       "      <th>Seats</th>\n",
       "      <td>0.071034</td>\n",
       "      <td>0.032866</td>\n",
       "      <td>0.054728</td>\n",
       "      <td>0.155374</td>\n",
       "      <td>1.000000</td>\n",
       "      <td>0.067493</td>\n",
       "      <td>0.049172</td>\n",
       "      <td>0.061743</td>\n",
       "    </tr>\n",
       "    <tr>\n",
       "      <th>Cylinders</th>\n",
       "      <td>0.170101</td>\n",
       "      <td>0.250388</td>\n",
       "      <td>0.637440</td>\n",
       "      <td>0.794124</td>\n",
       "      <td>0.067493</td>\n",
       "      <td>1.000000</td>\n",
       "      <td>0.116424</td>\n",
       "      <td>-0.252124</td>\n",
       "    </tr>\n",
       "    <tr>\n",
       "      <th>Gears</th>\n",
       "      <td>0.585866</td>\n",
       "      <td>-0.315554</td>\n",
       "      <td>0.377716</td>\n",
       "      <td>0.174822</td>\n",
       "      <td>0.049172</td>\n",
       "      <td>0.116424</td>\n",
       "      <td>1.000000</td>\n",
       "      <td>0.399503</td>\n",
       "    </tr>\n",
       "    <tr>\n",
       "      <th>Year</th>\n",
       "      <td>0.635632</td>\n",
       "      <td>-0.842329</td>\n",
       "      <td>-0.007443</td>\n",
       "      <td>-0.252623</td>\n",
       "      <td>0.061743</td>\n",
       "      <td>-0.252124</td>\n",
       "      <td>0.399503</td>\n",
       "      <td>1.000000</td>\n",
       "    </tr>\n",
       "  </tbody>\n",
       "</table>\n",
       "</div>"
      ],
      "text/plain": [
       "               Price   Mileage  Horsepower  EngineSize     Seats  Cylinders  \\\n",
       "Price       1.000000 -0.614035    0.516171    0.286597  0.071034   0.170101   \n",
       "Mileage    -0.614035  1.000000    0.045645    0.281828  0.032866   0.250388   \n",
       "Horsepower  0.516171  0.045645    1.000000    0.801584  0.054728   0.637440   \n",
       "EngineSize  0.286597  0.281828    0.801584    1.000000  0.155374   0.794124   \n",
       "Seats       0.071034  0.032866    0.054728    0.155374  1.000000   0.067493   \n",
       "Cylinders   0.170101  0.250388    0.637440    0.794124  0.067493   1.000000   \n",
       "Gears       0.585866 -0.315554    0.377716    0.174822  0.049172   0.116424   \n",
       "Year        0.635632 -0.842329   -0.007443   -0.252623  0.061743  -0.252124   \n",
       "\n",
       "               Gears      Year  \n",
       "Price       0.585866  0.635632  \n",
       "Mileage    -0.315554 -0.842329  \n",
       "Horsepower  0.377716 -0.007443  \n",
       "EngineSize  0.174822 -0.252623  \n",
       "Seats       0.049172  0.061743  \n",
       "Cylinders   0.116424 -0.252124  \n",
       "Gears       1.000000  0.399503  \n",
       "Year        0.399503  1.000000  "
      ]
     },
     "execution_count": 108,
     "metadata": {},
     "output_type": "execute_result"
    }
   ],
   "source": [
    "features = ['Price', 'Mileage', 'Horsepower', 'EngineSize', 'Seats', 'Cylinders', 'Gears', 'Year']\n",
    "corr = train[features].corr()\n",
    "corr"
   ]
  },
  {
   "cell_type": "markdown",
   "metadata": {},
   "source": [
    "> Now plot the correlation matrix. What is the perason correlation between price and horsepower?"
   ]
  },
  {
   "cell_type": "code",
   "execution_count": 109,
   "metadata": {
    "solution2": "hidden",
    "solution2_first": true
   },
   "outputs": [
    {
     "data": {
      "text/plain": [
       "<AxesSubplot:>"
      ]
     },
     "execution_count": 109,
     "metadata": {},
     "output_type": "execute_result"
    },
    {
     "data": {
      "image/png": "[encoded data removed]",
      "text/plain": [
       "<Figure size 864x432 with 2 Axes>"
      ]
     },
     "metadata": {
      "needs_background": "light"
     },
     "output_type": "display_data"
    }
   ],
   "source": [
    "plt.subplots(figsize=(12,6))\n",
    "sns.heatmap(corr, annot=True, cmap='RdYlGn_r', linewidths=0.5)"
   ]
  },
  {
   "cell_type": "code",
   "execution_count": null,
   "metadata": {
    "solution2": "hidden"
   },
   "outputs": [],
   "source": [
    "plt.subplots(figsize=(12,6))\n",
    "sns.heatmap(corr, annot=True, cmap='RdYlGn_r', linewidths=0.5)"
   ]
  },
  {
   "cell_type": "markdown",
   "metadata": {},
   "source": [
    "### Simple Linear Regression"
   ]
  },
  {
   "cell_type": "markdown",
   "metadata": {},
   "source": [
    "We start with simple linear regression, where we have only one feature. Our goal is to predict the price from a car based on the horsepower. In our correlation analysis we have seen that the price is positively correlated with the horsepower."
   ]
  },
  {
   "cell_type": "code",
   "execution_count": 110,
   "metadata": {},
   "outputs": [],
   "source": [
    "X_train = train[[\"Horsepower\"]].values\n",
    "X_test = test[[\"Horsepower\"]].values\n",
    "\n",
    "y_train = train.Price.values\n",
    "y_test = test.Price.values"
   ]
  },
  {
   "cell_type": "markdown",
   "metadata": {},
   "source": [
    "We display our datapoints in a scatter plot."
   ]
  },
  {
   "cell_type": "code",
   "execution_count": 111,
   "metadata": {},
   "outputs": [
    {
     "name": "stderr",
     "output_type": "stream",
     "text": [
      "/Users/jabbathegut/.local/share/virtualenvs/HSLU_ML-myLqnJHJ/lib/python3.8/site-packages/seaborn/_decorators.py:36: FutureWarning: Pass the following variables as keyword args: x, y. From version 0.12, the only valid positional argument will be `data`, and passing other arguments without an explicit keyword will result in an error or misinterpretation.\n",
      "  warnings.warn(\n"
     ]
    },
    {
     "data": {
      "text/plain": [
       "Text(0, 0.5, 'Price')"
      ]
     },
     "execution_count": 111,
     "metadata": {},
     "output_type": "execute_result"
    },
    {
     "data": {
      "image/png": "[encoded data removed]",
      "text/plain": [
       "<Figure size 432x288 with 1 Axes>"
      ]
     },
     "metadata": {
      "needs_background": "light"
     },
     "output_type": "display_data"
    }
   ],
   "source": [
    "ax = sns.scatterplot(X_train.reshape(-1), y_train)\n",
    "ax.set_xlabel(\"Horsepower\")\n",
    "ax.set_ylabel(\"Price\")"
   ]
  },
  {
   "cell_type": "markdown",
   "metadata": {},
   "source": [
    "#### Estimate model parameters\n",
    "> Fit a linear regression model to our data and print the model parameters. \n",
    "\n",
    "*Hint*: $\\theta_0$ can be accessed by means of the `intercept_` attribute and $\\theta_1$ with the `coef_` attribute."
   ]
  },
  {
   "cell_type": "code",
   "execution_count": 112,
   "metadata": {
    "solution2": "hidden",
    "solution2_first": true
   },
   "outputs": [
    {
     "name": "stdout",
     "output_type": "stream",
     "text": [
      "Theta 0: 522.3701559008659\n",
      "Theta 1: 157.78088729613734\n"
     ]
    }
   ],
   "source": [
    "model = LinearRegression()\n",
    "model.fit(X_train, y_train)\n",
    "\n",
    "theta0 = model.intercept_\n",
    "theta1 = model.coef_[0]\n",
    "print(\"Theta 0:\", theta0)\n",
    "print(\"Theta 1:\", theta1)"
   ]
  },
  {
   "cell_type": "code",
   "execution_count": null,
   "metadata": {
    "solution2": "hidden"
   },
   "outputs": [],
   "source": [
    "model = LinearRegression()\n",
    "model.fit(X_train, y_train)\n",
    "\n",
    "theta0 = model.intercept_\n",
    "theta1 = model.coef_[0]\n",
    "print(\"Theta 0:\", theta0)\n",
    "print(\"Theta 1:\", theta1)"
   ]
  },
  {
   "cell_type": "code",
   "execution_count": 113,
   "metadata": {},
   "outputs": [
    {
     "name": "stderr",
     "output_type": "stream",
     "text": [
      "/Users/jabbathegut/.local/share/virtualenvs/HSLU_ML-myLqnJHJ/lib/python3.8/site-packages/seaborn/_decorators.py:36: FutureWarning: Pass the following variables as keyword args: x, y. From version 0.12, the only valid positional argument will be `data`, and passing other arguments without an explicit keyword will result in an error or misinterpretation.\n",
      "  warnings.warn(\n"
     ]
    },
    {
     "data": {
      "image/png": "[encoded data removed]",
      "text/plain": [
       "<Figure size 432x288 with 1 Axes>"
      ]
     },
     "metadata": {
      "needs_background": "light"
     },
     "output_type": "display_data"
    }
   ],
   "source": [
    "ax = sns.scatterplot(X_train.reshape(-1), y_train)\n",
    "plot_regression_line(X_train, theta0, theta1, ax)\n",
    "plt.show()"
   ]
  },
  {
   "cell_type": "markdown",
   "metadata": {},
   "source": [
    "#### Measure the model performance\n",
    "> Predict the price on the test set and calculate the $R^2$ score."
   ]
  },
  {
   "cell_type": "code",
   "execution_count": 114,
   "metadata": {},
   "outputs": [
    {
     "name": "stdout",
     "output_type": "stream",
     "text": [
      "R^2:  0.2688862591352963\n"
     ]
    }
   ],
   "source": [
    "y_pred = model.predict(X_test)\n",
    "R2 = r2(y_test, y_pred)\n",
    "print (\"R^2: \", R2)"
   ]
  },
  {
   "cell_type": "markdown",
   "metadata": {},
   "source": [
    "## Part 4 -  Multiple Linear Regression using the AutoScout Dataset"
   ]
  },
  {
   "cell_type": "markdown",
   "metadata": {},
   "source": [
    "Okay, it seems like the feature horsepower alone is not sufficient enough. Let's use some more features.\n",
    "In this part we will implement a multiple linear regression model from scratch using the formulas from the slides."
   ]
  },
  {
   "cell_type": "code",
   "execution_count": 115,
   "metadata": {},
   "outputs": [
    {
     "data": {
      "text/html": [
       "<div>\n",
       "<style scoped>\n",
       "    .dataframe tbody tr th:only-of-type {\n",
       "        vertical-align: middle;\n",
       "    }\n",
       "\n",
       "    .dataframe tbody tr th {\n",
       "        vertical-align: top;\n",
       "    }\n",
       "\n",
       "    .dataframe thead th {\n",
       "        text-align: right;\n",
       "    }\n",
       "</style>\n",
       "<table border=\"1\" class=\"dataframe\">\n",
       "  <thead>\n",
       "    <tr style=\"text-align: right;\">\n",
       "      <th></th>\n",
       "      <th>Price</th>\n",
       "      <th>Mileage</th>\n",
       "      <th>Doors</th>\n",
       "      <th>Horsepower</th>\n",
       "      <th>EngineSize</th>\n",
       "      <th>Seats</th>\n",
       "      <th>Cylinders</th>\n",
       "      <th>Gears</th>\n",
       "      <th>Year</th>\n",
       "      <th>Color_anthrazit</th>\n",
       "      <th>...</th>\n",
       "      <th>Color_grau</th>\n",
       "      <th>Color_grün</th>\n",
       "      <th>Color_orange</th>\n",
       "      <th>Color_pink</th>\n",
       "      <th>Color_rot</th>\n",
       "      <th>Color_schwarz</th>\n",
       "      <th>Color_silber</th>\n",
       "      <th>Color_türkis</th>\n",
       "      <th>Color_violett</th>\n",
       "      <th>Color_weiss</th>\n",
       "    </tr>\n",
       "  </thead>\n",
       "  <tbody>\n",
       "    <tr>\n",
       "      <th>35105</th>\n",
       "      <td>20550</td>\n",
       "      <td>34500</td>\n",
       "      <td>5</td>\n",
       "      <td>180</td>\n",
       "      <td>1390</td>\n",
       "      <td>5</td>\n",
       "      <td>4</td>\n",
       "      <td>7</td>\n",
       "      <td>2011</td>\n",
       "      <td>0</td>\n",
       "      <td>...</td>\n",
       "      <td>0</td>\n",
       "      <td>0</td>\n",
       "      <td>0</td>\n",
       "      <td>0</td>\n",
       "      <td>0</td>\n",
       "      <td>1</td>\n",
       "      <td>0</td>\n",
       "      <td>0</td>\n",
       "      <td>0</td>\n",
       "      <td>0</td>\n",
       "    </tr>\n",
       "    <tr>\n",
       "      <th>27905</th>\n",
       "      <td>11900</td>\n",
       "      <td>82000</td>\n",
       "      <td>5</td>\n",
       "      <td>87</td>\n",
       "      <td>1298</td>\n",
       "      <td>5</td>\n",
       "      <td>4</td>\n",
       "      <td>5</td>\n",
       "      <td>2008</td>\n",
       "      <td>0</td>\n",
       "      <td>...</td>\n",
       "      <td>0</td>\n",
       "      <td>0</td>\n",
       "      <td>0</td>\n",
       "      <td>0</td>\n",
       "      <td>0</td>\n",
       "      <td>1</td>\n",
       "      <td>0</td>\n",
       "      <td>0</td>\n",
       "      <td>0</td>\n",
       "      <td>0</td>\n",
       "    </tr>\n",
       "    <tr>\n",
       "      <th>4588</th>\n",
       "      <td>9700</td>\n",
       "      <td>32000</td>\n",
       "      <td>5</td>\n",
       "      <td>101</td>\n",
       "      <td>1149</td>\n",
       "      <td>5</td>\n",
       "      <td>4</td>\n",
       "      <td>5</td>\n",
       "      <td>2009</td>\n",
       "      <td>0</td>\n",
       "      <td>...</td>\n",
       "      <td>0</td>\n",
       "      <td>0</td>\n",
       "      <td>0</td>\n",
       "      <td>0</td>\n",
       "      <td>0</td>\n",
       "      <td>0</td>\n",
       "      <td>0</td>\n",
       "      <td>0</td>\n",
       "      <td>0</td>\n",
       "      <td>0</td>\n",
       "    </tr>\n",
       "    <tr>\n",
       "      <th>47935</th>\n",
       "      <td>22500</td>\n",
       "      <td>18600</td>\n",
       "      <td>5</td>\n",
       "      <td>110</td>\n",
       "      <td>1461</td>\n",
       "      <td>5</td>\n",
       "      <td>4</td>\n",
       "      <td>6</td>\n",
       "      <td>2012</td>\n",
       "      <td>0</td>\n",
       "      <td>...</td>\n",
       "      <td>0</td>\n",
       "      <td>0</td>\n",
       "      <td>0</td>\n",
       "      <td>0</td>\n",
       "      <td>0</td>\n",
       "      <td>0</td>\n",
       "      <td>1</td>\n",
       "      <td>0</td>\n",
       "      <td>0</td>\n",
       "      <td>0</td>\n",
       "    </tr>\n",
       "    <tr>\n",
       "      <th>45236</th>\n",
       "      <td>12900</td>\n",
       "      <td>115000</td>\n",
       "      <td>2</td>\n",
       "      <td>150</td>\n",
       "      <td>1984</td>\n",
       "      <td>4</td>\n",
       "      <td>4</td>\n",
       "      <td>6</td>\n",
       "      <td>2006</td>\n",
       "      <td>0</td>\n",
       "      <td>...</td>\n",
       "      <td>0</td>\n",
       "      <td>0</td>\n",
       "      <td>0</td>\n",
       "      <td>0</td>\n",
       "      <td>0</td>\n",
       "      <td>0</td>\n",
       "      <td>1</td>\n",
       "      <td>0</td>\n",
       "      <td>0</td>\n",
       "      <td>0</td>\n",
       "    </tr>\n",
       "  </tbody>\n",
       "</table>\n",
       "<p>5 rows × 26 columns</p>\n",
       "</div>"
      ],
      "text/plain": [
       "       Price  Mileage  Doors  Horsepower  EngineSize  Seats  Cylinders  Gears  \\\n",
       "35105  20550    34500      5         180        1390      5          4      7   \n",
       "27905  11900    82000      5          87        1298      5          4      5   \n",
       "4588    9700    32000      5         101        1149      5          4      5   \n",
       "47935  22500    18600      5         110        1461      5          4      6   \n",
       "45236  12900   115000      2         150        1984      4          4      6   \n",
       "\n",
       "       Year  Color_anthrazit  ...  Color_grau  Color_grün  Color_orange  \\\n",
       "35105  2011                0  ...           0           0             0   \n",
       "27905  2008                0  ...           0           0             0   \n",
       "4588   2009                0  ...           0           0             0   \n",
       "47935  2012                0  ...           0           0             0   \n",
       "45236  2006                0  ...           0           0             0   \n",
       "\n",
       "       Color_pink  Color_rot  Color_schwarz  Color_silber  Color_türkis  \\\n",
       "35105           0          0              1             0             0   \n",
       "27905           0          0              1             0             0   \n",
       "4588            0          0              0             0             0   \n",
       "47935           0          0              0             1             0   \n",
       "45236           0          0              0             1             0   \n",
       "\n",
       "       Color_violett  Color_weiss  \n",
       "35105              0            0  \n",
       "27905              0            0  \n",
       "4588               0            0  \n",
       "47935              0            0  \n",
       "45236              0            0  \n",
       "\n",
       "[5 rows x 26 columns]"
      ]
     },
     "execution_count": 115,
     "metadata": {},
     "output_type": "execute_result"
    }
   ],
   "source": [
    "train.head()"
   ]
  },
  {
   "cell_type": "code",
   "execution_count": 116,
   "metadata": {},
   "outputs": [],
   "source": [
    "X_train = train.drop(columns=[\"Price\"]).values\n",
    "X_test = test.drop(columns=[\"Price\"]).values\n",
    "\n",
    "y_train = train.Price.values\n",
    "y_test = test.Price.values"
   ]
  },
  {
   "cell_type": "markdown",
   "metadata": {},
   "source": [
    "### Estimate model parameters\n",
    "Define a linear regression function to estimate the parameters $\\theta$ based on the normal equation:\n",
    "  \n",
    "  $\\Theta:=(X^{\\top}X)^{-1}(X^{\\top}y)$\n",
    "  \n",
    "  > Implement the `fit` function"
   ]
  },
  {
   "cell_type": "code",
   "execution_count": 117,
   "metadata": {
    "solution2": "hidden",
    "solution2_first": true
   },
   "outputs": [],
   "source": [
    "def fit(X, y):\n",
    "    # Add bias to our X\n",
    "    X = np.c_[np.ones((len(X), 1)), X]\n",
    "    \n",
    "    thetas = np.linalg.pinv(X.T.dot(X)).dot(X.T).dot(y)\n",
    "    return thetas"
   ]
  },
  {
   "cell_type": "code",
   "execution_count": null,
   "metadata": {
    "solution2": "hidden"
   },
   "outputs": [],
   "source": [
    "def fit(X, y):\n",
    "    # Add bias to our X\n",
    "    X = np.c_[np.ones((len(X), 1)), X]\n",
    "    \n",
    "    thetas = np.linalg.pinv(X.T.dot(X)).dot(X.T).dot(y)\n",
    "    return thetas"
   ]
  },
  {
   "cell_type": "code",
   "execution_count": 118,
   "metadata": {},
   "outputs": [
    {
     "data": {
      "text/plain": [
       "array([-6.47182366e+00, -1.58902645e-01,  4.32254971e+01,  1.05605332e+02,\n",
       "        6.07596625e+00,  6.42641424e+02, -2.10490843e+03,  4.53564858e+03,\n",
       "       -7.85084530e+00, -8.42790844e+02, -4.97258886e+02, -3.82242304e+02,\n",
       "       -2.17070424e+03,  3.22891243e+03, -6.51487905e+02,  2.40704310e+03,\n",
       "       -4.04197473e+02, -1.33347681e+02,  2.87158182e+02, -1.58618335e+03,\n",
       "       -1.15305462e+03,  1.43890462e+03, -4.47646813e+02, -6.56906885e+02,\n",
       "       -2.99462138e+02,  1.85679149e+03])"
      ]
     },
     "execution_count": 118,
     "metadata": {},
     "output_type": "execute_result"
    }
   ],
   "source": [
    "thetas = fit(X_train, y_train)\n",
    "thetas"
   ]
  },
  {
   "cell_type": "markdown",
   "metadata": {},
   "source": [
    "#### Predict prices\n",
    "> Implement the `predict` function which takes the features `X` and the model parameters $\\Theta$ as input."
   ]
  },
  {
   "cell_type": "code",
   "execution_count": 119,
   "metadata": {
    "solution2": "hidden",
    "solution2_first": true
   },
   "outputs": [],
   "source": [
    "def predict(X, thetas):\n",
    "    X = np.c_[np.ones((len(X), 1)), X]\n",
    "    y_pred = np.dot(X, thetas)\n",
    "    return y_pred"
   ]
  },
  {
   "cell_type": "code",
   "execution_count": null,
   "metadata": {
    "solution2": "hidden"
   },
   "outputs": [],
   "source": [
    "def predict(X, thetas):\n",
    "    X = np.c_[np.ones((len(X), 1)), X]\n",
    "    y_pred = np.dot(X, thetas)\n",
    "    return y_pred"
   ]
  },
  {
   "cell_type": "code",
   "execution_count": 120,
   "metadata": {},
   "outputs": [
    {
     "data": {
      "text/plain": [
       "array([43224.36967592, 25339.11311951, 27221.21663214, ...,\n",
       "        6179.09851465,  6564.7830174 , 18722.28215694])"
      ]
     },
     "execution_count": 120,
     "metadata": {},
     "output_type": "execute_result"
    }
   ],
   "source": [
    "y_pred = predict(X_test, thetas)\n",
    "y_pred"
   ]
  },
  {
   "cell_type": "markdown",
   "metadata": {},
   "source": [
    "No we want to calculate the $R^2$ score and the $MAE$ on the test set."
   ]
  },
  {
   "cell_type": "code",
   "execution_count": 121,
   "metadata": {},
   "outputs": [
    {
     "name": "stdout",
     "output_type": "stream",
     "text": [
      "R^2:  0.7328768844938501\n",
      "MAE:  6037.31244097365\n"
     ]
    }
   ],
   "source": [
    "R2 = r2(y_test, y_pred)\n",
    "MAE = mean_absolute_error(y_test, y_pred)\n",
    "\n",
    "print (\"R^2: \", R2)\n",
    "print (\"MAE: \", MAE)"
   ]
  },
  {
   "cell_type": "markdown",
   "metadata": {},
   "source": [
    "We get a much higher $R^2$ score with more than one feature!"
   ]
  },
  {
   "cell_type": "markdown",
   "metadata": {},
   "source": [
    "### Use Scikit-Learn implementation\n",
    "Let's move to the Scikit-Learn implementation [LinearRegression](https://scikit-learn.org/stable/modules/generated/sklearn.linear_model.LinearRegression.html) and check if we get the same results."
   ]
  },
  {
   "cell_type": "markdown",
   "metadata": {},
   "source": [
    "> Fit a [LinearRegression](https://scikit-learn.org/stable/modules/generated/sklearn.linear_model.LinearRegression.html) model."
   ]
  },
  {
   "cell_type": "code",
   "execution_count": 122,
   "metadata": {
    "solution2": "hidden",
    "solution2_first": true
   },
   "outputs": [],
   "source": [
    "model = LinearRegression().fit(X_train, y_train)"
   ]
  },
  {
   "cell_type": "code",
   "execution_count": null,
   "metadata": {
    "solution2": "hidden"
   },
   "outputs": [],
   "source": [
    "model = LinearRegression()\n",
    "model.fit(X_train, y_train)"
   ]
  },
  {
   "cell_type": "markdown",
   "metadata": {},
   "source": [
    "In Scikit-Learn we can access the thetas by means of the attribute `coef_`."
   ]
  },
  {
   "cell_type": "code",
   "execution_count": 123,
   "metadata": {},
   "outputs": [
    {
     "data": {
      "text/plain": [
       "array([-1.01812766e-01, -4.31230577e+02,  9.75579915e+01,  6.90334638e+00,\n",
       "        4.79169274e+02, -1.74078478e+03,  3.85633201e+03,  1.01328963e+03,\n",
       "       -1.42129031e+03, -7.22969224e+02, -1.46795669e+02, -7.94327692e+02,\n",
       "        2.40687004e+03, -1.96202749e+02,  2.23373399e+03, -7.45654154e+02,\n",
       "        1.84604896e+03, -4.98579780e+02, -1.65831890e+03, -9.58844885e+02,\n",
       "        7.62306210e+02, -5.18905869e+02, -5.58389281e+02,  1.07444195e+02,\n",
       "        8.63875109e+02])"
      ]
     },
     "execution_count": 123,
     "metadata": {},
     "output_type": "execute_result"
    }
   ],
   "source": [
    "model.coef_"
   ]
  },
  {
   "cell_type": "markdown",
   "metadata": {},
   "source": [
    "The bias parameter $\\theta_0$ can be accessed by means of the attribute `intercept_`"
   ]
  },
  {
   "cell_type": "code",
   "execution_count": 124,
   "metadata": {},
   "outputs": [
    {
     "data": {
      "text/plain": [
       "-2049035.0033218432"
      ]
     },
     "execution_count": 124,
     "metadata": {},
     "output_type": "execute_result"
    }
   ],
   "source": [
    "model.intercept_"
   ]
  },
  {
   "cell_type": "markdown",
   "metadata": {},
   "source": [
    "#### Predict prices"
   ]
  },
  {
   "cell_type": "code",
   "execution_count": 125,
   "metadata": {},
   "outputs": [
    {
     "data": {
      "text/plain": [
       "array([42903.54301549, 25267.55352846, 25959.90490875, ...,\n",
       "        7438.08437878,  3210.02906391, 18377.71956115])"
      ]
     },
     "execution_count": 125,
     "metadata": {},
     "output_type": "execute_result"
    }
   ],
   "source": [
    "y_pred = model.predict(X_test)\n",
    "y_pred"
   ]
  },
  {
   "cell_type": "markdown",
   "metadata": {},
   "source": [
    "Again we calculate the $R^2$ score and the $MAE$."
   ]
  },
  {
   "cell_type": "code",
   "execution_count": 126,
   "metadata": {},
   "outputs": [
    {
     "name": "stdout",
     "output_type": "stream",
     "text": [
      "R^2:  0.7517309417567085\n",
      "MAE:  5812.908359425944\n"
     ]
    }
   ],
   "source": [
    "R2 = r2(y_test, y_pred)\n",
    "MAE = mean_absolute_error(y_test, y_pred)\n",
    "\n",
    "print (\"R^2: \", R2)\n",
    "print (\"MAE: \", MAE)"
   ]
  },
  {
   "cell_type": "markdown",
   "metadata": {},
   "source": [
    "With the scikit-learn implementation we get a slightly better result."
   ]
  },
  {
   "cell_type": "markdown",
   "metadata": {},
   "source": [
    "#### Plot predictions vs the actual values\n",
    "Let us visualize the predictions by means of a scatter plot. The scatter plot displays the predicted and actual values as data points, where the first coordinate of each point is given by the actual value and the second by the predicted value."
   ]
  },
  {
   "cell_type": "code",
   "execution_count": 127,
   "metadata": {},
   "outputs": [
    {
     "data": {
      "text/plain": [
       "Text(0, 0.5, 'Actual values')"
      ]
     },
     "execution_count": 127,
     "metadata": {},
     "output_type": "execute_result"
    },
    {
     "data": {
      "image/png": "[encoded data removed]",
      "text/plain": [
       "<Figure size 576x432 with 1 Axes>"
      ]
     },
     "metadata": {
      "needs_background": "light"
     },
     "output_type": "display_data"
    }
   ],
   "source": [
    "plt.figure(2, figsize=(8, 6))\n",
    "plt.scatter(y_test, y_pred,  cmap=plt.cm.Set1,\n",
    "            edgecolor='k')\n",
    "plt.xlabel('Predicted values')\n",
    "plt.ylabel('Actual values')"
   ]
  },
  {
   "cell_type": "markdown",
   "metadata": {},
   "source": [
    "## Part 5 -  Simple Linear Regression using the House Price Dataset\n",
    "We now move to the house price dataset and we fit a simple linear regression model to predict a price based on the size of the house."
   ]
  },
  {
   "cell_type": "code",
   "execution_count": 128,
   "metadata": {},
   "outputs": [
    {
     "data": {
      "text/html": [
       "<div>\n",
       "<style scoped>\n",
       "    .dataframe tbody tr th:only-of-type {\n",
       "        vertical-align: middle;\n",
       "    }\n",
       "\n",
       "    .dataframe tbody tr th {\n",
       "        vertical-align: top;\n",
       "    }\n",
       "\n",
       "    .dataframe thead th {\n",
       "        text-align: right;\n",
       "    }\n",
       "</style>\n",
       "<table border=\"1\" class=\"dataframe\">\n",
       "  <thead>\n",
       "    <tr style=\"text-align: right;\">\n",
       "      <th></th>\n",
       "      <th>Size</th>\n",
       "      <th>Bedrooms</th>\n",
       "      <th>Price</th>\n",
       "    </tr>\n",
       "  </thead>\n",
       "  <tbody>\n",
       "    <tr>\n",
       "      <th>0</th>\n",
       "      <td>2104</td>\n",
       "      <td>3</td>\n",
       "      <td>399900</td>\n",
       "    </tr>\n",
       "    <tr>\n",
       "      <th>1</th>\n",
       "      <td>1600</td>\n",
       "      <td>3</td>\n",
       "      <td>329900</td>\n",
       "    </tr>\n",
       "    <tr>\n",
       "      <th>2</th>\n",
       "      <td>2400</td>\n",
       "      <td>3</td>\n",
       "      <td>369000</td>\n",
       "    </tr>\n",
       "    <tr>\n",
       "      <th>3</th>\n",
       "      <td>1416</td>\n",
       "      <td>2</td>\n",
       "      <td>232000</td>\n",
       "    </tr>\n",
       "    <tr>\n",
       "      <th>4</th>\n",
       "      <td>3000</td>\n",
       "      <td>4</td>\n",
       "      <td>539900</td>\n",
       "    </tr>\n",
       "  </tbody>\n",
       "</table>\n",
       "</div>"
      ],
      "text/plain": [
       "   Size  Bedrooms   Price\n",
       "0  2104         3  399900\n",
       "1  1600         3  329900\n",
       "2  2400         3  369000\n",
       "3  1416         2  232000\n",
       "4  3000         4  539900"
      ]
     },
     "execution_count": 128,
     "metadata": {},
     "output_type": "execute_result"
    }
   ],
   "source": [
    "df = pd.read_csv(\"house_prices.csv\")\n",
    "df.head()"
   ]
  },
  {
   "cell_type": "markdown",
   "metadata": {},
   "source": [
    "> Compute the pearson correlation between the features size and price."
   ]
  },
  {
   "cell_type": "code",
   "execution_count": 136,
   "metadata": {},
   "outputs": [
    {
     "data": {
      "text/plain": [
       "(0.8549875928781252, 2.0272680958767088e-14)"
      ]
     },
     "execution_count": 136,
     "metadata": {},
     "output_type": "execute_result"
    }
   ],
   "source": [
    "size = df[\"Size\"].values\n",
    "price= df[\"Price\"].values\n",
    "pearsonr(size, price)"
   ]
  },
  {
   "cell_type": "markdown",
   "metadata": {},
   "source": [
    "We now split the data into a training and test set."
   ]
  },
  {
   "cell_type": "code",
   "execution_count": 141,
   "metadata": {},
   "outputs": [],
   "source": [
    "X = df[[\"Size\"]].values\n",
    "y  = df[[\"Price\"]].values\n",
    "\n",
    "X_train, X_test, y_train, y_test = train_test_split(X, y, test_size=0.2, random_state=42)"
   ]
  },
  {
   "cell_type": "code",
   "execution_count": 142,
   "metadata": {},
   "outputs": [
    {
     "name": "stderr",
     "output_type": "stream",
     "text": [
      "/Users/jabbathegut/.local/share/virtualenvs/HSLU_ML-myLqnJHJ/lib/python3.8/site-packages/seaborn/_decorators.py:36: FutureWarning: Pass the following variables as keyword args: x, y. From version 0.12, the only valid positional argument will be `data`, and passing other arguments without an explicit keyword will result in an error or misinterpretation.\n",
      "  warnings.warn(\n"
     ]
    },
    {
     "data": {
      "text/plain": [
       "<AxesSubplot:>"
      ]
     },
     "execution_count": 142,
     "metadata": {},
     "output_type": "execute_result"
    },
    {
     "data": {
      "image/png": "[encoded data removed]",
      "text/plain": [
       "<Figure size 432x288 with 1 Axes>"
      ]
     },
     "metadata": {
      "needs_background": "light"
     },
     "output_type": "display_data"
    }
   ],
   "source": [
    "sns.scatterplot(X_train.reshape(-1), y_train.reshape(-1))"
   ]
  },
  {
   "cell_type": "markdown",
   "metadata": {},
   "source": [
    "> Now fit a linear regression model to our data (use the Scikit-Learn implementation)"
   ]
  },
  {
   "cell_type": "code",
   "execution_count": 145,
   "metadata": {},
   "outputs": [],
   "source": [
    "# Fit a linear regression model to the training data\n",
    "house_model = LinearRegression().fit(X_train, y_train)"
   ]
  },
  {
   "cell_type": "markdown",
   "metadata": {},
   "source": [
    "We can access the model parameters the following way:"
   ]
  },
  {
   "cell_type": "code",
   "execution_count": 146,
   "metadata": {},
   "outputs": [
    {
     "name": "stdout",
     "output_type": "stream",
     "text": [
      "Theta0 59771.494447654\n",
      "Theta1 134.3574322465645\n"
     ]
    }
   ],
   "source": [
    "theta0 = house_model.intercept_[0]\n",
    "theta1 = house_model.coef_[0][0]\n",
    "\n",
    "print(\"Theta0\", theta0)\n",
    "print(\"Theta1\", theta1)"
   ]
  },
  {
   "cell_type": "code",
   "execution_count": 149,
   "metadata": {},
   "outputs": [
    {
     "name": "stderr",
     "output_type": "stream",
     "text": [
      "/Users/jabbathegut/.local/share/virtualenvs/HSLU_ML-myLqnJHJ/lib/python3.8/site-packages/seaborn/_decorators.py:36: FutureWarning: Pass the following variables as keyword args: x, y. From version 0.12, the only valid positional argument will be `data`, and passing other arguments without an explicit keyword will result in an error or misinterpretation.\n",
      "  warnings.warn(\n"
     ]
    },
    {
     "data": {
      "image/png": "[encoded data removed]",
      "text/plain": [
       "<Figure size 432x288 with 1 Axes>"
      ]
     },
     "metadata": {
      "needs_background": "light"
     },
     "output_type": "display_data"
    }
   ],
   "source": [
    "def plot_regression_line(X, model, ax=None):\n",
    "    if ax is None:\n",
    "        fig, ax = plt.subplots()\n",
    "    x = np.arange(X.min(), X.max()+0.1, 0.01).reshape(-1,1)\n",
    "    y_pred = model.predict(x)\n",
    "    \n",
    "    ax.plot(x, y_pred, color=\"r\")\n",
    "    \n",
    "ax = sns.scatterplot(X_train.reshape(-1), y_train.reshape(-1))\n",
    "plot_regression_line(X_train, house_model, ax)"
   ]
  },
  {
   "cell_type": "markdown",
   "metadata": {},
   "source": [
    "> Compute the 99% confidence interval for $\\theta_1$"
   ]
  },
  {
   "cell_type": "code",
   "execution_count": null,
   "metadata": {},
   "outputs": [],
   "source": [
    "# Compute the 99% confidence interval"
   ]
  },
  {
   "cell_type": "markdown",
   "metadata": {},
   "source": [
    "> Compute the $R^2$ on the test set"
   ]
  },
  {
   "cell_type": "code",
   "execution_count": 152,
   "metadata": {},
   "outputs": [
    {
     "data": {
      "text/plain": [
       "0.526301453884142"
      ]
     },
     "execution_count": 152,
     "metadata": {},
     "output_type": "execute_result"
    }
   ],
   "source": [
    "# compute the R^2 score\n",
    "y_pred = house_model.predict(X_test)\n",
    "R2 = r2_score(y_test, y_pred)\n",
    "R2"
   ]
  },
  {
   "cell_type": "code",
   "execution_count": null,
   "metadata": {},
   "outputs": [],
   "source": []
  }
 ],
 "metadata": {
  "kernelspec": {
   "display_name": "Python 3",
   "language": "python",
   "name": "python3"
  },
  "language_info": {
   "codemirror_mode": {
    "name": "ipython",
    "version": 3
   },
   "file_extension": ".py",
   "mimetype": "text/x-python",
   "name": "python",
   "nbconvert_exporter": "python",
   "pygments_lexer": "ipython3",
   "version": "3.8.1"
  }
 },
 "nbformat": 4,
 "nbformat_minor": 2
}
